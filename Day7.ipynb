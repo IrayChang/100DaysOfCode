{
 "cells": [
  {
   "cell_type": "markdown",
   "id": "72f30184-5044-49f7-910f-60949a2bd9c3",
   "metadata": {},
   "source": [
    "# Day 7 - Hangman "
   ]
  },
  {
   "cell_type": "code",
   "execution_count": 1,
   "id": "f2fe4183-8c51-49b1-b9c8-f85879c4b397",
   "metadata": {},
   "outputs": [
    {
     "name": "stdout",
     "output_type": "stream",
     "text": [
      "Random word: unprolific\n",
      "_ _ _ _ _ _ _ _ _ _\n"
     ]
    },
    {
     "name": "stderr",
     "output_type": "stream",
     "text": [
      "[nltk_data] Downloading package words to /Users/iray/nltk_data...\n",
      "[nltk_data]   Package words is already up-to-date!\n"
     ]
    }
   ],
   "source": [
    "# Generate a random word and underscores to represent each letter in the word\n",
    "\n",
    "import random\n",
    "from nltk.corpus import words\n",
    "import nltk\n",
    "\n",
    "# Download the 'words' dataset if not already available\n",
    "nltk.download('words')\n",
    "word_list = words.words()\n",
    "\n",
    "random_word = random.choice(word_list)\n",
    "\n",
    "print(\"Random word:\", random_word)\n",
    "\n",
    "num_of_letter = len(random_word)\n",
    "underscore = \" \".join(\"_\" * num_of_letter)\n",
    "\n",
    "print(underscore)\n"
   ]
  },
  {
   "cell_type": "code",
   "execution_count": 67,
   "id": "0b671730-845c-49ee-aac8-c39b9d800108",
   "metadata": {},
   "outputs": [
    {
     "name": "stderr",
     "output_type": "stream",
     "text": [
      "<>:3: SyntaxWarning: invalid escape sequence '\\ '\n",
      "<>:11: SyntaxWarning: invalid escape sequence '\\ '\n",
      "<>:19: SyntaxWarning: invalid escape sequence '\\ '\n",
      "<>:3: SyntaxWarning: invalid escape sequence '\\ '\n",
      "<>:11: SyntaxWarning: invalid escape sequence '\\ '\n",
      "<>:19: SyntaxWarning: invalid escape sequence '\\ '\n",
      "/var/folders/j4/_32gy4_946qdg_kcycfvf3180000gn/T/ipykernel_65996/2230987356.py:3: SyntaxWarning: invalid escape sequence '\\ '\n",
      "  stages = ['''\n",
      "/var/folders/j4/_32gy4_946qdg_kcycfvf3180000gn/T/ipykernel_65996/2230987356.py:11: SyntaxWarning: invalid escape sequence '\\ '\n",
      "  ''', '''\n",
      "/var/folders/j4/_32gy4_946qdg_kcycfvf3180000gn/T/ipykernel_65996/2230987356.py:19: SyntaxWarning: invalid escape sequence '\\ '\n",
      "  ''', '''\n"
     ]
    },
    {
     "name": "stdin",
     "output_type": "stream",
     "text": [
      "Guess a letter:  c\n"
     ]
    },
    {
     "name": "stdout",
     "output_type": "stream",
     "text": [
      " _ _ _ _ _ _ _ _ _c\n",
      "Excellent! Keep going!\n"
     ]
    },
    {
     "name": "stdin",
     "output_type": "stream",
     "text": [
      "Guess a letter:  af\n"
     ]
    },
    {
     "name": "stdout",
     "output_type": "stream",
     "text": [
      "Invalid input! Please enter a single letter.\n"
     ]
    },
    {
     "name": "stdin",
     "output_type": "stream",
     "text": [
      "Guess a letter:  d\n"
     ]
    },
    {
     "name": "stdout",
     "output_type": "stream",
     "text": [
      " _ _ _ _ _ _ _ _ _c\n",
      "\n",
      "  +---+\n",
      "  |   |\n",
      "  0   |\n",
      "      |\n",
      "      |\n",
      "      |\n",
      "=========\n",
      "\n",
      "You guessed d that's not in the word. 5 lives remains!\n"
     ]
    },
    {
     "name": "stdin",
     "output_type": "stream",
     "text": [
      "Guess a letter:  a\n"
     ]
    },
    {
     "name": "stdout",
     "output_type": "stream",
     "text": [
      " _ _ _ _ _ _ _ _ _c\n",
      "\n",
      "  +---+\n",
      "  |   |\n",
      "  0   |\n",
      "  |   |\n",
      "      |\n",
      "      |\n",
      "=========\n",
      "\n",
      "You guessed a that's not in the word. 4 lives remains!\n"
     ]
    },
    {
     "name": "stdin",
     "output_type": "stream",
     "text": [
      "Guess a letter:  b\n"
     ]
    },
    {
     "name": "stdout",
     "output_type": "stream",
     "text": [
      " _ _ _ _ _ _ _ _ _c\n",
      "\n",
      "  +---+\n",
      "  |   |\n",
      "  0   |\n",
      " /|   |\n",
      "      |\n",
      "      |\n",
      "=========\n",
      "\n",
      "You guessed b that's not in the word. 3 lives remains!\n"
     ]
    },
    {
     "name": "stdin",
     "output_type": "stream",
     "text": [
      "Guess a letter:  f\n"
     ]
    },
    {
     "name": "stdout",
     "output_type": "stream",
     "text": [
      " _ _ _ _ _ _ _f _c\n",
      "Excellent! Keep going!\n"
     ]
    },
    {
     "name": "stdin",
     "output_type": "stream",
     "text": [
      "Guess a letter:  i\n"
     ]
    },
    {
     "name": "stdout",
     "output_type": "stream",
     "text": [
      " _ _ _ _ _ _ific\n",
      "Excellent! Keep going!\n"
     ]
    },
    {
     "name": "stdin",
     "output_type": "stream",
     "text": [
      "Guess a letter:  l\n"
     ]
    },
    {
     "name": "stdout",
     "output_type": "stream",
     "text": [
      " _ _ _ _ _lific\n",
      "Excellent! Keep going!\n"
     ]
    },
    {
     "name": "stdin",
     "output_type": "stream",
     "text": [
      "Guess a letter:  q\n"
     ]
    },
    {
     "name": "stdout",
     "output_type": "stream",
     "text": [
      " _ _ _ _ _lific\n",
      "\n",
      "  +---+\n",
      "  |   |\n",
      "  0   |\n",
      " /|\\  |\n",
      "      |\n",
      "      |\n",
      "=========\n",
      "\n",
      "You guessed q that's not in the word. 2 lives remains!\n"
     ]
    },
    {
     "name": "stdin",
     "output_type": "stream",
     "text": [
      "Guess a letter:  z\n"
     ]
    },
    {
     "name": "stdout",
     "output_type": "stream",
     "text": [
      " _ _ _ _ _lific\n",
      "\n",
      "  +---+\n",
      "  |   |\n",
      "  0   |\n",
      " /|\\  |\n",
      " /    |\n",
      "      |\n",
      "=========\n",
      "\n",
      "You guessed z that's not in the word. Only one life remains. Be careful!\n"
     ]
    },
    {
     "name": "stdin",
     "output_type": "stream",
     "text": [
      "Guess a letter:  u\n"
     ]
    },
    {
     "name": "stdout",
     "output_type": "stream",
     "text": [
      "u _ _ _ _lific\n",
      "Excellent! Keep going!\n"
     ]
    },
    {
     "name": "stdin",
     "output_type": "stream",
     "text": [
      "Guess a letter:  n\n"
     ]
    },
    {
     "name": "stdout",
     "output_type": "stream",
     "text": [
      "un _ _ _lific\n",
      "Excellent! Keep going!\n"
     ]
    },
    {
     "name": "stdin",
     "output_type": "stream",
     "text": [
      "Guess a letter:  p\n"
     ]
    },
    {
     "name": "stdout",
     "output_type": "stream",
     "text": [
      "unp _ _lific\n",
      "Excellent! Keep going!\n"
     ]
    },
    {
     "name": "stdin",
     "output_type": "stream",
     "text": [
      "Guess a letter:  r\n"
     ]
    },
    {
     "name": "stdout",
     "output_type": "stream",
     "text": [
      "unpr _lific\n",
      "Excellent! Keep going!\n"
     ]
    },
    {
     "name": "stdin",
     "output_type": "stream",
     "text": [
      "Guess a letter:  o\n"
     ]
    },
    {
     "name": "stdout",
     "output_type": "stream",
     "text": [
      "unprolific\n",
      "**********You win!**********\n",
      "Congraulation! You guessed the word: unprolific\n"
     ]
    }
   ],
   "source": [
    "game_over = False\n",
    "correct_letter = []\n",
    "stages = ['''\n",
    "  +---+\n",
    "  |   |\n",
    "  0   |\n",
    " /|\\  |\n",
    " / \\  |\n",
    "      |\n",
    "=========\n",
    "''', '''\n",
    "  +---+\n",
    "  |   |\n",
    "  0   |\n",
    " /|\\  |\n",
    " /    |\n",
    "      |\n",
    "=========\n",
    "''', '''\n",
    "  +---+\n",
    "  |   |\n",
    "  0   |\n",
    " /|\\  |\n",
    "      |\n",
    "      |\n",
    "=========\n",
    "''', '''\n",
    "  +---+\n",
    "  |   |\n",
    "  0   |\n",
    " /|   |\n",
    "      |\n",
    "      |\n",
    "=========\n",
    "''', '''\n",
    "  +---+\n",
    "  |   |\n",
    "  0   |\n",
    "  |   |\n",
    "      |\n",
    "      |\n",
    "=========\n",
    "''', '''\n",
    "  +---+\n",
    "  |   |\n",
    "  0   |\n",
    "      |\n",
    "      |\n",
    "      |\n",
    "=========\n",
    "''', '''\n",
    "  +---+\n",
    "  |   |\n",
    "      |\n",
    "      |\n",
    "      |\n",
    "      |\n",
    "=========\n",
    "'''\n",
    "]\n",
    "\n",
    "lives = 6\n",
    "\n",
    "while not game_over:\n",
    "    \n",
    "    display = \"\"\n",
    "    guess = input(\"Guess a letter: \").lower()\n",
    "\n",
    "    # Debugging: Check if input is a single letter\n",
    "    if not guess.isalpha() or len(guess) != 1:\n",
    "        print(\"Invalid input! Please enter a single letter.\")\n",
    "        continue \n",
    "    \n",
    "    if guess in correct_letter:\n",
    "        print(\"You've already guessed it\")\n",
    "\n",
    "    for letter in random_word:\n",
    "        if letter == guess:\n",
    "            display += letter\n",
    "            correct_letter.append(letter)\n",
    "            num_of_letter -= 1\n",
    "        elif letter in correct_letter:\n",
    "            display += letter\n",
    "        else:\n",
    "            display += \" _\"\n",
    "\n",
    "    print(display)\n",
    "\n",
    "    if guess not in random_word:\n",
    "        lives -= 1\n",
    "        print(stages[lives])\n",
    "        if lives == 1:\n",
    "            print(\"You guessed \" + guess + f\" that's not in the word. Only one life remains. Be careful!\")\n",
    "        else:\n",
    "            print(\"You guessed \" + guess + f\" that's not in the word. {lives} lives remains!\")\n",
    "        if lives == 0:\n",
    "            game_over = True\n",
    "            print(\"***********You lose!**********\\nThe answar is: \" + random_word)\n",
    "    else:\n",
    "        if \"_\" not in display:\n",
    "            game_over = True\n",
    "            print(\"**********You win!**********\")\n",
    "            print(\"Congraulation! You guessed the word: \" + random_word)\n",
    "        else:\n",
    "            print(\"Excellent! Keep going!\")\n",
    "\n",
    "    \n",
    "        "
   ]
  },
  {
   "cell_type": "code",
   "execution_count": null,
   "id": "20246db7-506d-4d99-a34e-0b4cbed2a4e3",
   "metadata": {},
   "outputs": [],
   "source": []
  }
 ],
 "metadata": {
  "kernelspec": {
   "display_name": "Python 3 (ipykernel)",
   "language": "python",
   "name": "python3"
  },
  "language_info": {
   "codemirror_mode": {
    "name": "ipython",
    "version": 3
   },
   "file_extension": ".py",
   "mimetype": "text/x-python",
   "name": "python",
   "nbconvert_exporter": "python",
   "pygments_lexer": "ipython3",
   "version": "3.12.4"
  }
 },
 "nbformat": 4,
 "nbformat_minor": 5
}
