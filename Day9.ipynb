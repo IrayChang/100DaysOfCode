{
 "cells": [
  {
   "cell_type": "markdown",
   "id": "437da8ee-5f81-48ce-b06d-c051829c2e67",
   "metadata": {},
   "source": [
    "# Day 9 - The Secret Auction"
   ]
  },
  {
   "cell_type": "code",
   "execution_count": 61,
   "id": "49da51ff-f782-4b97-8a3b-ab39224e4870",
   "metadata": {},
   "outputs": [
    {
     "name": "stdout",
     "output_type": "stream",
     "text": [
      "Welcome to the secret auction program.\n"
     ]
    },
    {
     "name": "stdin",
     "output_type": "stream",
     "text": [
      "What is your name:\n",
      " i\n",
      "What is your bid:\n",
      " 19\n",
      "Are there any other bidders? Type 'Yes' or 'No'\n",
      " yes\n",
      "What is your name:\n",
      " a\n",
      "What is your bid:\n",
      " 200\n",
      "Are there any other bidders? Type 'Yes' or 'No'\n",
      " yes\n",
      "What is your name:\n",
      " c\n",
      "What is your bid:\n",
      " 50\n",
      "Are there any other bidders? Type 'Yes' or 'No'\n",
      " no\n"
     ]
    },
    {
     "name": "stdout",
     "output_type": "stream",
     "text": [
      "The winner is user a with a bid of $200\n"
     ]
    }
   ],
   "source": [
    "print(\"Welcome to the secret auction program.\")\n",
    "users = {}\n",
    "bid = 0\n",
    "winner = \"\"\n",
    "\n",
    "while True:\n",
    "    user = input(\"What is your name:\\n\")    \n",
    "    bid = int(input(\"What is your bid:\\n\"))\n",
    "    users[user] = bid\n",
    "    while True:\n",
    "        others = str(input(\"Are there any other bidders? Type 'Yes' or 'No'\\n\")).lower()\n",
    "        if others in [\"yes\", \"no\"]:\n",
    "            break\n",
    "        else:\n",
    "            print(\"wrong input\")\n",
    "            \n",
    "    if others == \"no\" :\n",
    "        break\n",
    "\n",
    "winner = max(users, key = users.get)\n",
    "highest_bid = users[winner]\n",
    "        \n",
    "print(f\"The winner is user {winner} with a bid of ${highest_bid}\")"
   ]
  },
  {
   "cell_type": "code",
   "execution_count": 65,
   "id": "57ad97f8-3194-410c-8b84-509480cbf509",
   "metadata": {},
   "outputs": [
    {
     "name": "stdout",
     "output_type": "stream",
     "text": [
      "Welcome to the Secret Auction Program!\n"
     ]
    },
    {
     "name": "stdin",
     "output_type": "stream",
     "text": [
      "What is your name (or type 'exit' to stop bidding):\n",
      " user1\n",
      "What is your bid: $ 100\n",
      "Are there any other bidders? Type 'Yes' or 'No':\n",
      " ask;f\n"
     ]
    },
    {
     "name": "stdout",
     "output_type": "stream",
     "text": [
      "Invalid input! Please enter: yes, no\n"
     ]
    },
    {
     "name": "stdin",
     "output_type": "stream",
     "text": [
      "Are there any other bidders? Type 'Yes' or 'No':\n",
      " yes\n"
     ]
    },
    {
     "name": "stdout",
     "output_type": "stream",
     "text": [
      "\u001b[H\u001b[2J"
     ]
    },
    {
     "name": "stdin",
     "output_type": "stream",
     "text": [
      "What is your name (or type 'exit' to stop bidding):\n",
      " user2\n",
      "What is your bid: $ 1000\n",
      "Are there any other bidders? Type 'Yes' or 'No':\n",
      " yes\n"
     ]
    },
    {
     "name": "stdout",
     "output_type": "stream",
     "text": [
      "\u001b[H\u001b[2J"
     ]
    },
    {
     "name": "stdin",
     "output_type": "stream",
     "text": [
      "What is your name (or type 'exit' to stop bidding):\n",
      " user3\n",
      "What is your bid: $ 10\n",
      "Are there any other bidders? Type 'Yes' or 'No':\n",
      " no\n"
     ]
    },
    {
     "name": "stdout",
     "output_type": "stream",
     "text": [
      "\u001b[H\u001b[2JThe winner is **user2** with a bid of **$1000**!\n"
     ]
    }
   ],
   "source": [
    "import os\n",
    "\n",
    "def get_valid_bid():\n",
    "    while True:\n",
    "        try:\n",
    "            bid = int(input(\"What is your bid: $\"))\n",
    "            if bid < 0:\n",
    "                print(\"Bids cannot be negative. Please enter a valid amount.\")\n",
    "                continue\n",
    "            return bid\n",
    "        except ValueError:\n",
    "            print(\"Invalid input! Please enter a number.\")\n",
    "\n",
    "def get_valid_response(prompt, valid_responses):\n",
    "    while True:\n",
    "        response = input(prompt).strip().lower()\n",
    "        if response in valid_responses:\n",
    "            return response\n",
    "        print(\"Invalid input! Please enter:\", ', '.join(valid_responses))\n",
    "\n",
    "print(\"Welcome to the Secret Auction Program!\")\n",
    "users = {}\n",
    "\n",
    "while True:\n",
    "    user = input(\"What is your name (or type 'exit' to stop bidding):\\n\")\n",
    "    \n",
    "    if user.lower() == \"exit\":\n",
    "        break  \n",
    "\n",
    "    bid = get_valid_bid()\n",
    "    users[user] = bid \n",
    "\n",
    "    others = get_valid_response(\"Are there any other bidders? Type 'Yes' or 'No':\\n\", [\"yes\", \"no\"])\n",
    "\n",
    "    os.system('cls' if os.name == 'nt' else 'clear')\n",
    "\n",
    "    if others == \"no\":\n",
    "        break \n",
    "\n",
    "\n",
    "if users:\n",
    "    winner = max(users, key=users.get)\n",
    "    highest_bid = users[winner]\n",
    "    print(f\"The winner is **{winner}** with a bid of **${highest_bid}**!\")\n",
    "else:\n",
    "    print(\"No valid bids were placed. Auction canceled.\")\n"
   ]
  },
  {
   "cell_type": "code",
   "execution_count": null,
   "id": "16adfa95-1989-4716-a95b-ba8d01b76907",
   "metadata": {},
   "outputs": [],
   "source": []
  }
 ],
 "metadata": {
  "kernelspec": {
   "display_name": "Python 3 (ipykernel)",
   "language": "python",
   "name": "python3"
  },
  "language_info": {
   "codemirror_mode": {
    "name": "ipython",
    "version": 3
   },
   "file_extension": ".py",
   "mimetype": "text/x-python",
   "name": "python",
   "nbconvert_exporter": "python",
   "pygments_lexer": "ipython3",
   "version": "3.12.4"
  }
 },
 "nbformat": 4,
 "nbformat_minor": 5
}
