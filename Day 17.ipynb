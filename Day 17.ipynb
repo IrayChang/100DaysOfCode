{
 "cells": [
  {
   "cell_type": "markdown",
   "id": "681482e9-2019-4abb-8f93-431f81d89f20",
   "metadata": {},
   "source": [
    "# Day 17 - Quiz project"
   ]
  },
  {
   "cell_type": "code",
   "execution_count": 33,
   "id": "375d7b00-c3d2-47cf-9e3d-6f0c61cf114b",
   "metadata": {},
   "outputs": [],
   "source": [
    "class Question:\n",
    "    def __init__(self, q_text, q_answer):\n",
    "        self.text = q_text\n",
    "        self.answer = q_answer\n"
   ]
  },
  {
   "cell_type": "code",
   "execution_count": 59,
   "id": "57f8db32-9aae-4ff5-b634-d5c04bf98f2e",
   "metadata": {},
   "outputs": [],
   "source": [
    "class QuizBrain:\n",
    "    def __init__(self, q_list):\n",
    "        self.question_num = 0\n",
    "        self.question_list = q_list\n",
    "        self.score = 0\n",
    "\n",
    "    def still_has_question(self):\n",
    "        return self.question_num < len(self.question_list)\n",
    "\n",
    "    def next_question(self):\n",
    "        current_question = self.question_list[self.question_num]\n",
    "        self.question_num += 1\n",
    "        user_answer = input(f\"Q.{self.question_num}: {current_question.text} True or False:\")\n",
    "        self.check_answer(user_answer, current_question.answer)\n",
    "\n",
    "    def check_answer(self, user_answer, correct_answer):\n",
    "        if user_answer.lower() == correct_answer.lower():\n",
    "            self.score += 1\n",
    "            print(\"You are right\")\n",
    "        else:\n",
    "            print(\"You are wrong.\")\n",
    "        print(f\"The correct answer is: {correct_answer}\")\n",
    "        print(f\"Your current score is: {self.score}/{self.question_num}\")\n",
    "        print(\"\\n\")\n"
   ]
  },
  {
   "cell_type": "code",
   "execution_count": 73,
   "id": "b8c6811c-3c97-4029-80cf-5a7e93ef42a1",
   "metadata": {},
   "outputs": [
    {
     "name": "stdin",
     "output_type": "stream",
     "text": [
      "Q.1: A slug's blood is green. True or False: \n"
     ]
    },
    {
     "name": "stdout",
     "output_type": "stream",
     "text": [
      "You are wrong.\n",
      "The correct answer is: True\n",
      "Your current score is: 0/1\n",
      "\n",
      "\n"
     ]
    },
    {
     "name": "stdin",
     "output_type": "stream",
     "text": [
      "Q.2: The loudest animal is the African Elephant. True or False: \n"
     ]
    },
    {
     "name": "stdout",
     "output_type": "stream",
     "text": [
      "You are wrong.\n",
      "The correct answer is: False\n",
      "Your current score is: 0/2\n",
      "\n",
      "\n"
     ]
    },
    {
     "name": "stdin",
     "output_type": "stream",
     "text": [
      "Q.3: Approximately one quarter of human bones are in the feet. True or False: \n"
     ]
    },
    {
     "name": "stdout",
     "output_type": "stream",
     "text": [
      "You are wrong.\n",
      "The correct answer is: True\n",
      "Your current score is: 0/3\n",
      "\n",
      "\n"
     ]
    },
    {
     "name": "stdin",
     "output_type": "stream",
     "text": [
      "Q.4: The total surface area of a human lungs is the size of a football pitch. True or False: \n"
     ]
    },
    {
     "name": "stdout",
     "output_type": "stream",
     "text": [
      "You are wrong.\n",
      "The correct answer is: True\n",
      "Your current score is: 0/4\n",
      "\n",
      "\n"
     ]
    },
    {
     "name": "stdin",
     "output_type": "stream",
     "text": [
      "Q.5: In West Virginia, USA, if you accidentally hit an animal with your car, you are free to take it home to eat. True or False: \n"
     ]
    },
    {
     "name": "stdout",
     "output_type": "stream",
     "text": [
      "You are wrong.\n",
      "The correct answer is: True\n",
      "Your current score is: 0/5\n",
      "\n",
      "\n"
     ]
    },
    {
     "name": "stdin",
     "output_type": "stream",
     "text": [
      "Q.6: In London, UK, if you happen to die in the House of Parliament, you are entitled to a state funeral. True or False: True\n"
     ]
    },
    {
     "name": "stdout",
     "output_type": "stream",
     "text": [
      "You are wrong.\n",
      "The correct answer is: False\n",
      "Your current score is: 0/6\n",
      "\n",
      "\n"
     ]
    },
    {
     "name": "stdin",
     "output_type": "stream",
     "text": [
      "Q.7: It is illegal to pee in the Ocean in Portugal. True or False: \n"
     ]
    },
    {
     "name": "stdout",
     "output_type": "stream",
     "text": [
      "You are wrong.\n",
      "The correct answer is: True\n",
      "Your current score is: 0/7\n",
      "\n",
      "\n"
     ]
    },
    {
     "name": "stdin",
     "output_type": "stream",
     "text": [
      "Q.8: You can lead a cow down stairs but not up stairs. True or False: \n"
     ]
    },
    {
     "name": "stdout",
     "output_type": "stream",
     "text": [
      "You are wrong.\n",
      "The correct answer is: False\n",
      "Your current score is: 0/8\n",
      "\n",
      "\n"
     ]
    },
    {
     "name": "stdin",
     "output_type": "stream",
     "text": [
      "Q.9: Google was originally called 'Backrub'. True or False: True\n"
     ]
    },
    {
     "name": "stdout",
     "output_type": "stream",
     "text": [
      "You are right\n",
      "The correct answer is: True\n",
      "Your current score is: 1/9\n",
      "\n",
      "\n"
     ]
    },
    {
     "name": "stdin",
     "output_type": "stream",
     "text": [
      "Q.10: Buzz Aldrin's mother's maiden name was 'Moon'. True or False: True\n"
     ]
    },
    {
     "name": "stdout",
     "output_type": "stream",
     "text": [
      "You are right\n",
      "The correct answer is: True\n",
      "Your current score is: 2/10\n",
      "\n",
      "\n"
     ]
    },
    {
     "name": "stdin",
     "output_type": "stream",
     "text": [
      "Q.11: No piece of square dry paper can be folded in half more than 7 times. True or False: True\n"
     ]
    },
    {
     "name": "stdout",
     "output_type": "stream",
     "text": [
      "You are wrong.\n",
      "The correct answer is: False\n",
      "Your current score is: 2/11\n",
      "\n",
      "\n"
     ]
    },
    {
     "name": "stdin",
     "output_type": "stream",
     "text": [
      "Q.12: A few ounces of chocolate can to kill a small dog. True or False: True\n"
     ]
    },
    {
     "name": "stdout",
     "output_type": "stream",
     "text": [
      "You are right\n",
      "The correct answer is: True\n",
      "Your current score is: 3/12\n",
      "\n",
      "\n",
      "You've completed the quiz.\n",
      "Your final score is: 3/12\n"
     ]
    }
   ],
   "source": [
    "question_bank = []\n",
    "\n",
    "question_data = [\n",
    "    {\"text\": \"A slug's blood is green.\", \"answer\": \"True\"},\n",
    "    {\"text\": \"The loudest animal is the African Elephant.\", \"answer\": \"False\"},\n",
    "    {\"text\": \"Approximately one quarter of human bones are in the feet.\", \"answer\": \"True\"},\n",
    "    {\"text\": \"The total surface area of a human lungs is the size of a football pitch.\", \"answer\": \"True\"},\n",
    "    {\"text\": \"In West Virginia, USA, if you accidentally hit an animal with your car, you are free to take it home to eat.\",\n",
    "     \"answer\": \"True\"},\n",
    "    {\"text\": \"In London, UK, if you happen to die in the House of Parliament, you are entitled to a state funeral.\", \"answer\": \"False\"},\n",
    "    {\"text\": \"It is illegal to pee in the Ocean in Portugal.\", \"answer\": \"True\"},\n",
    "    {\"text\": \"You can lead a cow down stairs but not up stairs.\", \"answer\": \"False\"},\n",
    "    {\"text\": \"Google was originally called 'Backrub'.\", \"answer\": \"True\"},\n",
    "    {\"text\": \"Buzz Aldrin's mother's maiden name was 'Moon'.\", \"answer\": \"True\"},\n",
    "    {\"text\": \"No piece of square dry paper can be folded in half more than 7 times.\", \"answer\": \"False\"},\n",
    "    {\"text\": \"A few ounces of chocolate can to kill a small dog.\", \"answer\": \"True\"}\n",
    "]\n",
    "\n",
    "for question in question_data:\n",
    "    question_text = question[\"text\"]\n",
    "    question_answer = question[\"answer\"]\n",
    "    new_question = Question(question_text, question_answer)\n",
    "    question_bank.append(new_question)\n",
    "\n",
    "\n",
    "quiz = QuizBrain(question_bank)\n",
    "\n",
    "while quiz.still_has_question():\n",
    "    quiz.next_question()\n",
    "\n",
    "print(\"You've completed the quiz.\")\n",
    "print(f\"Your final score is: {quiz.score}/{quiz.question_num}\")"
   ]
  },
  {
   "cell_type": "code",
   "execution_count": null,
   "id": "e5248491-ee3d-4a84-9da4-b412858a6369",
   "metadata": {},
   "outputs": [],
   "source": []
  }
 ],
 "metadata": {
  "kernelspec": {
   "display_name": "Python 3 (ipykernel)",
   "language": "python",
   "name": "python3"
  },
  "language_info": {
   "codemirror_mode": {
    "name": "ipython",
    "version": 3
   },
   "file_extension": ".py",
   "mimetype": "text/x-python",
   "name": "python",
   "nbconvert_exporter": "python",
   "pygments_lexer": "ipython3",
   "version": "3.12.4"
  }
 },
 "nbformat": 4,
 "nbformat_minor": 5
}
