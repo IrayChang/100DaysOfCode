{
 "cells": [
  {
   "cell_type": "markdown",
   "id": "ca65148c-a2a2-4273-ab59-220c33af89fb",
   "metadata": {},
   "source": [
    "# Day 4 - Rock Paper Scissors"
   ]
  },
  {
   "cell_type": "markdown",
   "id": "51f58aca-661a-45aa-a16c-9d64d09cb17c",
   "metadata": {},
   "source": [
    "### psuedo random number generating"
   ]
  },
  {
   "cell_type": "code",
   "execution_count": 10,
   "id": "abb06b34-2a92-4f25-9d46-8d5e301a9978",
   "metadata": {},
   "outputs": [
    {
     "name": "stdout",
     "output_type": "stream",
     "text": [
      "5\n"
     ]
    }
   ],
   "source": [
    "import random\n",
    "\n",
    "rn = random.randint(1, 10)\n",
    "print(rn)"
   ]
  },
  {
   "cell_type": "code",
   "execution_count": 22,
   "id": "019179ec-25ad-44bf-a9fc-b4e3bb1156a4",
   "metadata": {},
   "outputs": [
    {
     "name": "stdout",
     "output_type": "stream",
     "text": [
      "0.7422744305645465\n"
     ]
    }
   ],
   "source": [
    "# random floating number range from 0 to 1, excluding 1\n",
    "\n",
    "rn_0_to_1 = random.random()\n",
    "print(rn_0_to_1)"
   ]
  },
  {
   "cell_type": "code",
   "execution_count": 26,
   "id": "400b5c50-06a6-4b20-86e0-d49c17130d0d",
   "metadata": {},
   "outputs": [
    {
     "name": "stdout",
     "output_type": "stream",
     "text": [
      "5.360003344055764\n"
     ]
    }
   ],
   "source": [
    "# random floating number between a and b\n",
    "\n",
    "rn_uni = random.uniform(1, 10)\n",
    "print(rn_uni)"
   ]
  },
  {
   "cell_type": "code",
   "execution_count": 69,
   "id": "bdb98afa-59d0-4ffa-b9a9-8f1583e39c51",
   "metadata": {},
   "outputs": [
    {
     "name": "stdout",
     "output_type": "stream",
     "text": [
      "tail\n",
      "tail\n",
      "tail\n",
      "head\n",
      "tail\n",
      "head\n",
      "head\n",
      "head\n",
      "tail\n",
      "head\n"
     ]
    }
   ],
   "source": [
    "# heads or tails practice\n",
    "n = 10\n",
    "\n",
    "for i in range(n):\n",
    "    headortail = random.randint(0,1)\n",
    "    if headortail == 0:\n",
    "        print(\"head\")\n",
    "    else: \n",
    "        print(\"tail\")"
   ]
  },
  {
   "cell_type": "code",
   "execution_count": 100,
   "id": "f715c477-c9f2-428c-9460-81f8a13f4995",
   "metadata": {},
   "outputs": [
    {
     "name": "stdout",
     "output_type": "stream",
     "text": [
      "jay\n",
      "ray\n"
     ]
    }
   ],
   "source": [
    "# get a random number from a list\n",
    "import random\n",
    "\n",
    "# option 1\n",
    "this_is_a_list = [\"ray\", \"jay\", \"eric\", \"terry\"]\n",
    "print(random.choice(this_is_a_list))\n",
    "\n",
    "# option 2\n",
    "rn_list = random.randint(0, 3)\n",
    "print(this_is_a_list[rn_list])"
   ]
  },
  {
   "cell_type": "markdown",
   "id": "551fde50-44e2-4649-a765-c32a7329a8a8",
   "metadata": {},
   "source": [
    "---"
   ]
  },
  {
   "cell_type": "code",
   "execution_count": 138,
   "id": "6a3b5029-a6be-46a0-9dd0-f2122b995309",
   "metadata": {},
   "outputs": [
    {
     "name": "stdin",
     "output_type": "stream",
     "text": [
      "What do you choose? Type 0 for Rock, 1 for Paper or 2 for Scissor.\n",
      " a\n"
     ]
    },
    {
     "name": "stdout",
     "output_type": "stream",
     "text": [
      "Wrong Input!\n"
     ]
    },
    {
     "name": "stdin",
     "output_type": "stream",
     "text": [
      "What do you choose? Type 0 for Rock, 1 for Paper or 2 for Scissor.\n",
      " 2\n"
     ]
    },
    {
     "name": "stdout",
     "output_type": "stream",
     "text": [
      "computer choose 2 for Scissor\n",
      "It's a draw\n"
     ]
    }
   ],
   "source": [
    "gesture = [\"Rock\", \"Paper\", \"Scissor\"]\n",
    "\n",
    "while True:\n",
    "    try:\n",
    "        user = int(input(\"What do you choose? Type 0 for Rock, 1 for Paper or 2 for Scissor.\\n\"))\n",
    "    except ValueError:\n",
    "        print(\"Wrong Input!\")\n",
    "        continue\n",
    "\n",
    "    computer = random.randint(0, 2)\n",
    "    \n",
    "    if user == 0:\n",
    "        print(f\"computer choose {computer} for \" + gesture[computer])\n",
    "        if computer == 0:\n",
    "            print(\"It's a draw\")\n",
    "        elif computer == 2:\n",
    "            print(\"You win!\")\n",
    "        else:\n",
    "            print(\"You lose\")\n",
    "        break\n",
    "    elif user == 1:\n",
    "        print(f\"computer choose {computer} for \" + gesture[computer])\n",
    "        if computer == 1:\n",
    "            print(\"It's a draw\")\n",
    "        elif computer == 0:\n",
    "            print(\"You win!\")\n",
    "        else:\n",
    "            print(\"You lose\")\n",
    "        break\n",
    "    elif user == 2:\n",
    "        print(f\"computer choose {computer} for \" + gesture[computer])\n",
    "        if computer == 2:\n",
    "            print(\"It's a draw\")\n",
    "        elif computer == 1: \n",
    "            print(\"You win!\")\n",
    "        else:\n",
    "            print(\"You lose\")\n",
    "        break\n",
    "    else:\n",
    "        print(\"Wrong Input!\")\n",
    "        continue\n"
   ]
  },
  {
   "cell_type": "code",
   "execution_count": null,
   "id": "85f884fd-3f86-4cbe-8d45-12d4bca6d00f",
   "metadata": {},
   "outputs": [],
   "source": []
  }
 ],
 "metadata": {
  "kernelspec": {
   "display_name": "Python 3 (ipykernel)",
   "language": "python",
   "name": "python3"
  },
  "language_info": {
   "codemirror_mode": {
    "name": "ipython",
    "version": 3
   },
   "file_extension": ".py",
   "mimetype": "text/x-python",
   "name": "python",
   "nbconvert_exporter": "python",
   "pygments_lexer": "ipython3",
   "version": "3.12.4"
  }
 },
 "nbformat": 4,
 "nbformat_minor": 5
}
