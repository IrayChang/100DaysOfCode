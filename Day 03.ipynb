{
 "cells": [
  {
   "cell_type": "markdown",
   "id": "6188b855-eae5-4111-8360-52b273aec0a0",
   "metadata": {},
   "source": [
    "# Day 3 - Treasure Island"
   ]
  },
  {
   "cell_type": "markdown",
   "id": "de458e39-b563-4e13-abd4-c6f6846674cc",
   "metadata": {},
   "source": [
    "### if/else condition\n",
    "    if condition:\n",
    "        do a\n",
    "    elif condition2:\n",
    "        do b\n",
    "    else:\n",
    "        do c\n",
    "\n",
    "> only one of a, b or c will be carry out"
   ]
  },
  {
   "cell_type": "markdown",
   "id": "d234a067-87a0-4d98-8b10-b8a793ed4534",
   "metadata": {},
   "source": [
    "### multiple if \n",
    "    if condition 1\n",
    "        do a \n",
    "    if condition 2\n",
    "        do b\n",
    "    if condition 3\n",
    "        do c\n",
    "\n",
    "> all three conditions are checked!"
   ]
  },
  {
   "cell_type": "markdown",
   "id": "f5218de5-8d5e-4afa-9aa3-87c8998b8653",
   "metadata": {},
   "source": [
    "### Pizza Order Delivery"
   ]
  },
  {
   "cell_type": "code",
   "execution_count": 16,
   "id": "c26ed574-d677-4037-b8da-c67d32fa7ae6",
   "metadata": {},
   "outputs": [
    {
     "name": "stdout",
     "output_type": "stream",
     "text": [
      "Welcome to Python Pizza Deliveries!\n"
     ]
    },
    {
     "name": "stdin",
     "output_type": "stream",
     "text": [
      "What size pizza do you want? s, m or l:  b\n"
     ]
    },
    {
     "name": "stdout",
     "output_type": "stream",
     "text": [
      "Wrong size input!\n"
     ]
    },
    {
     "name": "stdin",
     "output_type": "stream",
     "text": [
      "What size pizza do you want? s, m or l:  m\n",
      "Do you want pepperoni on your pizza? y or n:  v\n"
     ]
    },
    {
     "name": "stdout",
     "output_type": "stream",
     "text": [
      "Wrong input! Please enter 'y' or 'n'.\n"
     ]
    },
    {
     "name": "stdin",
     "output_type": "stream",
     "text": [
      "Do you want pepperoni on your pizza? y or n:  n\n",
      "Do you want extra_cheese? y or n:  n\n"
     ]
    },
    {
     "name": "stdout",
     "output_type": "stream",
     "text": [
      "The totall bill is $20\n"
     ]
    }
   ],
   "source": [
    "print(\"Welcome to Python Pizza Deliveries!\")\n",
    "bill = 0\n",
    "\n",
    "while True :\n",
    "    size = input(\"What size pizza do you want? s, m or l: \").lower()\n",
    "    if size == \"s\":\n",
    "        bill += 15\n",
    "        break\n",
    "    elif size == \"m\":\n",
    "        bill += 20\n",
    "        break\n",
    "    elif size == \"l\":\n",
    "        bill += 25\n",
    "        break\n",
    "    else:\n",
    "        print(\"Wrong size input!\")\n",
    "        \n",
    "\n",
    "while True:\n",
    "    pepperoni = input(\"Do you want pepperoni on your pizza? y or n: \").lower()\n",
    "    \n",
    "    if pepperoni == \"y\":\n",
    "        if size == \"s\":\n",
    "            bill += 2\n",
    "        else:\n",
    "            bill += 3\n",
    "        break  \n",
    "    elif pepperoni == \"n\":\n",
    "        break \n",
    "    else:\n",
    "        print(\"Wrong input! Please enter 'y' or 'n'.\")\n",
    "\n",
    "while True:\n",
    "    extra_cheese = input(\"Do you want extra_cheese? y or n: \").lower()\n",
    "    if extra_cheese == \"y\":\n",
    "        bill += 1\n",
    "        break\n",
    "    elif extra_cheese == \"n\":\n",
    "        break \n",
    "    else:\n",
    "        print(\"Wrong input! Please enter 'y' or 'n'.\")\n",
    "\n",
    "\n",
    "\n",
    "print(f\"The totall bill is ${bill}\")"
   ]
  },
  {
   "cell_type": "markdown",
   "id": "e3fafdcf-feec-4bfd-a7b9-7f5f99f52a87",
   "metadata": {},
   "source": [
    "### Treasure Island"
   ]
  },
  {
   "cell_type": "code",
   "execution_count": 45,
   "id": "73b4024f-8869-4970-a6a0-c69ed131da2c",
   "metadata": {},
   "outputs": [
    {
     "name": "stderr",
     "output_type": "stream",
     "text": [
      "<>:2: SyntaxWarning: invalid escape sequence '\\`'\n",
      "<>:2: SyntaxWarning: invalid escape sequence '\\`'\n",
      "/var/folders/j4/_32gy4_946qdg_kcycfvf3180000gn/T/ipykernel_82429/2510622769.py:2: SyntaxWarning: invalid escape sequence '\\`'\n",
      "  print('''\n"
     ]
    },
    {
     "name": "stdout",
     "output_type": "stream",
     "text": [
      "\n",
      "*******************************************************************************\n",
      "          |                   |                  |                     |\n",
      " _________|________________.=\"\"_;=.______________|_____________________|_______\n",
      "|                   |  ,-\"_,=\"\"     `\"=.|                  |\n",
      "|___________________|__\"=._o`\"-._        `\"=.______________|___________________\n",
      "          |                `\"=._o`\"=._      _`\"=._                     |\n",
      " _________|_____________________:=._o \"=._.\"_.-=\"'\"=.__________________|_______\n",
      "|                   |    __.--\" , ; `\"=._o.\" ,-\"\"\"-._ \".   |\n",
      "|___________________|_._\"  ,. .` ` `` ,  `\"-._\"-._   \". '__|___________________\n",
      "          |           |o`\"=._` , \"` `; .\". ,  \"-._\"-._; ;              |\n",
      " _________|___________| ;`-.o`\"=._; .\" ` '`.\"\\` . \"-._ /_______________|_______\n",
      "|                   | |o;    `\"-.o`\"=._``  '` \" ,__.--o;   |\n",
      "|___________________|_| ;     (#) `-.o `\"=.`_.--\"_o.-; ;___|___________________\n",
      "____/______/______/___|o;._    \"      `\".o|o_.--\"    ;o;____/______/______/____\n",
      "/______/______/______/_\"=._o--._        ; | ;        ; ;/______/______/______/_\n",
      "____/______/______/______/__\"=._o--._   ;o|o;     _._;o;____/______/______/____\n",
      "/______/______/______/______/____\"=._o._; | ;_.--\"o.--\"_/______/______/______/_\n",
      "____/______/______/______/______/_____\"=.o|o_.--\"\"___/______/______/______/____\n",
      "/______/______/______/______/______/______/______/______/______/______/[TomekK]\n",
      "*******************************************************************************\n",
      "\n"
     ]
    },
    {
     "name": "stdin",
     "output_type": "stream",
     "text": [
      "Welcome to Treasure island.\n",
      "Your mission is to find the treasure.\n",
      "You're at cross road. Where do you want to go? Type left or right:  left\n",
      "swim or wait? swim\n"
     ]
    },
    {
     "name": "stdout",
     "output_type": "stream",
     "text": [
      "Game over\n"
     ]
    }
   ],
   "source": [
    "# ascii.co.uk \n",
    "print('''\n",
    "*******************************************************************************\n",
    "          |                   |                  |                     |\n",
    " _________|________________.=\"\"_;=.______________|_____________________|_______\n",
    "|                   |  ,-\"_,=\"\"     `\"=.|                  |\n",
    "|___________________|__\"=._o`\"-._        `\"=.______________|___________________\n",
    "          |                `\"=._o`\"=._      _`\"=._                     |\n",
    " _________|_____________________:=._o \"=._.\"_.-=\"'\"=.__________________|_______\n",
    "|                   |    __.--\" , ; `\"=._o.\" ,-\"\"\"-._ \".   |\n",
    "|___________________|_._\"  ,. .` ` `` ,  `\"-._\"-._   \". '__|___________________\n",
    "          |           |o`\"=._` , \"` `; .\". ,  \"-._\"-._; ;              |\n",
    " _________|___________| ;`-.o`\"=._; .\" ` '`.\"\\` . \"-._ /_______________|_______\n",
    "|                   | |o;    `\"-.o`\"=._``  '` \" ,__.--o;   |\n",
    "|___________________|_| ;     (#) `-.o `\"=.`_.--\"_o.-; ;___|___________________\n",
    "____/______/______/___|o;._    \"      `\".o|o_.--\"    ;o;____/______/______/____\n",
    "/______/______/______/_\"=._o--._        ; | ;        ; ;/______/______/______/_\n",
    "____/______/______/______/__\"=._o--._   ;o|o;     _._;o;____/______/______/____\n",
    "/______/______/______/______/____\"=._o._; | ;_.--\"o.--\"_/______/______/______/_\n",
    "____/______/______/______/______/_____\"=.o|o_.--\"\"___/______/______/______/____\n",
    "/______/______/______/______/______/______/______/______/______/______/[TomekK]\n",
    "*******************************************************************************\n",
    "''')\n",
    "\n",
    "first_step = input(\"Welcome to Treasure island.\\n\"\n",
    "                        \"Your mission is to find the treasure.\\n\"\n",
    "                        \"You're at cross road. Where do you want to go? Type left or right: \").lower() \n",
    "\n",
    "if first_step == \"left\":\n",
    "    second_step = input(\"swim or wait?\").lower()\n",
    "    if second_step == \"wait\":\n",
    "        third_step = input(\"blue, red or yellow?\").lower()\n",
    "        if third_step == \"yellow\":\n",
    "            print(\"You win!\")\n",
    "        elif third_step == \"blue\" or \"red\":\n",
    "            print(\"Game over\")\n",
    "    else:\n",
    "        print(\"Game over\")\n",
    "else:\n",
    "    print(\"Game over\")\n",
    "            "
   ]
  },
  {
   "cell_type": "code",
   "execution_count": null,
   "id": "60b8d564-6b01-48ca-aee3-a90c5b348f9f",
   "metadata": {},
   "outputs": [],
   "source": []
  }
 ],
 "metadata": {
  "kernelspec": {
   "display_name": "Python 3 (ipykernel)",
   "language": "python",
   "name": "python3"
  },
  "language_info": {
   "codemirror_mode": {
    "name": "ipython",
    "version": 3
   },
   "file_extension": ".py",
   "mimetype": "text/x-python",
   "name": "python",
   "nbconvert_exporter": "python",
   "pygments_lexer": "ipython3",
   "version": "3.12.4"
  }
 },
 "nbformat": 4,
 "nbformat_minor": 5
}
