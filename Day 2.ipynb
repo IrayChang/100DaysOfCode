{
 "cells": [
  {
   "cell_type": "markdown",
   "id": "ab6bae92-70a3-41b1-be7a-e0cb808ed22e",
   "metadata": {},
   "source": [
    "# Day 2 - Welcome Tip Calculator "
   ]
  },
  {
   "cell_type": "markdown",
   "id": "823f60ab-b560-4750-8d22-1ad41bc67cd2",
   "metadata": {},
   "source": [
    "### data type "
   ]
  },
  {
   "cell_type": "code",
   "execution_count": 22,
   "id": "3dc86ac5-c241-4fb5-a9e1-11bbf4735bf2",
   "metadata": {},
   "outputs": [
    {
     "name": "stdout",
     "output_type": "stream",
     "text": [
      "123456789\n"
     ]
    }
   ],
   "source": [
    "# This is a large number\n",
    "print(123_456_789)"
   ]
  },
  {
   "cell_type": "code",
   "execution_count": 45,
   "id": "98cf4dc5-ac9c-49e8-a2a0-ccf31511c5ac",
   "metadata": {},
   "outputs": [],
   "source": [
    "# Q: print(\"Number of letter in your name: \" + len((input(\"Enter your name\")))) "
   ]
  },
  {
   "cell_type": "code",
   "execution_count": 43,
   "id": "2997438b-0053-4593-9181-2fed79693924",
   "metadata": {},
   "outputs": [
    {
     "name": "stdin",
     "output_type": "stream",
     "text": [
      "Enter your name iray\n"
     ]
    },
    {
     "name": "stdout",
     "output_type": "stream",
     "text": [
      "Number of letter in your name: 4\n"
     ]
    }
   ],
   "source": [
    "print(\"Number of letter in your name: \" + str(len((input(\"Enter your name\")))))"
   ]
  },
  {
   "cell_type": "code",
   "execution_count": 37,
   "id": "5bd5a784-b991-4604-925c-9ed0910ae95b",
   "metadata": {},
   "outputs": [
    {
     "name": "stdout",
     "output_type": "stream",
     "text": [
      "I want to conver 1 and True to string in one sentence!\n"
     ]
    }
   ],
   "source": [
    "# this is a f-string\n",
    "num = 1\n",
    "istrue = True \n",
    "\n",
    "print(f\"I want to conver {num} and {istrue} to string in one sentence!\")"
   ]
  },
  {
   "cell_type": "markdown",
   "id": "9f38202a-c3c8-4bf9-bc79-563688140130",
   "metadata": {},
   "source": [
    "---"
   ]
  },
  {
   "cell_type": "markdown",
   "id": "ce4a39ed-3858-467b-a547-d1617897d514",
   "metadata": {},
   "source": [
    "### Welcome Tip Calculator"
   ]
  },
  {
   "cell_type": "code",
   "execution_count": 61,
   "id": "e0b85a08-30a7-40ba-94e0-417cc0ca3bd9",
   "metadata": {},
   "outputs": [
    {
     "name": "stdout",
     "output_type": "stream",
     "text": [
      "welcome to the tip calculator\n"
     ]
    },
    {
     "name": "stdin",
     "output_type": "stream",
     "text": [
      "what was the total bill? $ 124.56\n",
      "How much tip would you like to give? 10, 12 or 15? 12\n",
      "How may people to split the bill? 7\n"
     ]
    },
    {
     "name": "stdout",
     "output_type": "stream",
     "text": [
      "Each person should pay: $19.93\n"
     ]
    }
   ],
   "source": [
    "# First go\n",
    "\n",
    "print(\"welcome to the tip calculator\")\n",
    "\n",
    "total_bill = input(\"what was the total bill? $\")\n",
    "tip = input(\"How much tip would you like to give? 10, 12 or 15?\")\n",
    "num_of_people = input(\"How may people to split the bill?\")\n",
    "\n",
    "bill_per_person = round(float(total_bill) * (1 + int(tip) / 100) / int(num_of_people), 2)\n",
    "\n",
    "print(f\"Each person should pay: ${bill_per_person}\")\n"
   ]
  },
  {
   "cell_type": "code",
   "execution_count": 63,
   "id": "b39069d8-1fac-4938-8931-7014ddc60dd2",
   "metadata": {},
   "outputs": [
    {
     "name": "stdout",
     "output_type": "stream",
     "text": [
      "welcome to the tip calculator\n"
     ]
    },
    {
     "name": "stdin",
     "output_type": "stream",
     "text": [
      "what was the total bill? $ 124.56\n",
      "How much tip would you like to give? 10, 12 or 15? 12\n",
      "How may people to split the bill? 7\n"
     ]
    },
    {
     "name": "stdout",
     "output_type": "stream",
     "text": [
      "Each person should pay: $19.93\n"
     ]
    }
   ],
   "source": [
    "# Refined\n",
    "\n",
    "print(\"welcome to the tip calculator\")\n",
    "\n",
    "total_bill = float(input(\"what was the total bill? $\"))\n",
    "tip = int(input(\"How much tip would you like to give? 10, 12 or 15?\"))\n",
    "num_of_people = int(input(\"How may people to split the bill?\"))\n",
    "\n",
    "bill_per_person = round(total_bill * (1 + tip / 100) / num_of_people, 2)\n",
    "\n",
    "print(f\"Each person should pay: ${bill_per_person}\")\n"
   ]
  },
  {
   "cell_type": "code",
   "execution_count": 71,
   "id": "823c4ca2-9194-473f-a19b-ce3c109dd204",
   "metadata": {},
   "outputs": [
    {
     "name": "stdout",
     "output_type": "stream",
     "text": [
      "Welcome to the tip calculator!\n"
     ]
    },
    {
     "name": "stdin",
     "output_type": "stream",
     "text": [
      "What was the total bill? $ -2\n"
     ]
    },
    {
     "name": "stdout",
     "output_type": "stream",
     "text": [
      "Pleas enter a postive number!\n"
     ]
    },
    {
     "name": "stdin",
     "output_type": "stream",
     "text": [
      "What was the total bill? $ 500\n",
      "How much tip would you like to give? 10, 12, or 15?  g\n"
     ]
    },
    {
     "name": "stdout",
     "output_type": "stream",
     "text": [
      "Invalid input! Please enter an integer.\n"
     ]
    },
    {
     "name": "stdin",
     "output_type": "stream",
     "text": [
      "How much tip would you like to give? 10, 12, or 15?  13\n"
     ]
    },
    {
     "name": "stdout",
     "output_type": "stream",
     "text": [
      "Please enter 10, 12, or 15.\n"
     ]
    },
    {
     "name": "stdin",
     "output_type": "stream",
     "text": [
      "How much tip would you like to give? 10, 12, or 15?  15\n",
      "How many people to split the bill?  a\n"
     ]
    },
    {
     "name": "stdout",
     "output_type": "stream",
     "text": [
      "Invalid input! Please enter a whole number.\n"
     ]
    },
    {
     "name": "stdin",
     "output_type": "stream",
     "text": [
      "How many people to split the bill?  5\n"
     ]
    },
    {
     "name": "stdout",
     "output_type": "stream",
     "text": [
      "Each person should pay: $115.00\n"
     ]
    }
   ],
   "source": [
    "print(\"Welcome to the tip calculator!\")\n",
    "\n",
    "# Validate total bill input\n",
    "while True:\n",
    "    try:\n",
    "        total_bill = float(input(\"What was the total bill? $\"))\n",
    "        if total_bill > 0:\n",
    "            break  # Exit loop if input is valid\n",
    "        else:\n",
    "            print(\"Pleas enter a postive number!\")\n",
    "    except ValueError:\n",
    "        print(\"Invalid input! Please enter a numeric value.\")\n",
    "\n",
    "# Validate tip percentage input\n",
    "while True:\n",
    "    try:\n",
    "        tip = int(input(\"How much tip would you like to give? 10, 12, or 15? \"))\n",
    "        if tip in [10, 12, 15]:  # Only accept valid tip values\n",
    "            break\n",
    "        else:\n",
    "            print(\"Please enter 10, 12, or 15.\")\n",
    "    except ValueError:\n",
    "        print(\"Invalid input! Please enter an integer.\")\n",
    "\n",
    "# Validate number of people input\n",
    "while True:\n",
    "    try:\n",
    "        num_of_people = int(input(\"How many people to split the bill? \"))\n",
    "        if num_of_people > 0:\n",
    "            break\n",
    "        else:\n",
    "            print(\"Number of people must be greater than zero.\")\n",
    "    except ValueError:\n",
    "        print(\"Invalid input! Please enter a whole number.\")\n",
    "\n",
    "# Calculate bill per person\n",
    "bill_per_person = total_bill * (1 + tip / 100) / num_of_people\n",
    "\n",
    "# Print the result with currency formatting\n",
    "print(f\"Each person should pay: ${bill_per_person:.2f}\")\n"
   ]
  },
  {
   "cell_type": "code",
   "execution_count": null,
   "id": "c16e7989-bf08-47e9-b9fb-be3223b1211e",
   "metadata": {},
   "outputs": [],
   "source": []
  }
 ],
 "metadata": {
  "kernelspec": {
   "display_name": "Python 3 (ipykernel)",
   "language": "python",
   "name": "python3"
  },
  "language_info": {
   "codemirror_mode": {
    "name": "ipython",
    "version": 3
   },
   "file_extension": ".py",
   "mimetype": "text/x-python",
   "name": "python",
   "nbconvert_exporter": "python",
   "pygments_lexer": "ipython3",
   "version": "3.12.4"
  }
 },
 "nbformat": 4,
 "nbformat_minor": 5
}
