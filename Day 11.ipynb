{
 "cells": [
  {
   "cell_type": "markdown",
   "id": "6837d17c-60f6-42cf-a5cd-c267274e1fbb",
   "metadata": {},
   "source": [
    "# Day 11 - Blackjack Capstone Project"
   ]
  },
  {
   "cell_type": "code",
   "execution_count": null,
   "id": "07d661f9-52a7-40ea-a03b-d936b85a0d94",
   "metadata": {},
   "outputs": [
    {
     "name": "stdin",
     "output_type": "stream",
     "text": [
      "Do you want to play a game of Blackjack? Type 'y' or 'n':  y\n"
     ]
    },
    {
     "name": "stdout",
     "output_type": "stream",
     "text": [
      "Your cards [3, 4], current score: 7\n",
      "Computer's first card: [10]\n"
     ]
    },
    {
     "name": "stdin",
     "output_type": "stream",
     "text": [
      "Do you want another card? Type 'y' or 'n':  y\n"
     ]
    },
    {
     "name": "stdout",
     "output_type": "stream",
     "text": [
      "Your cards [3, 4, 2], current score: 11\n"
     ]
    },
    {
     "name": "stdin",
     "output_type": "stream",
     "text": [
      "Do you want to play a game of Blackjack? Type 'y' or 'n':  y\n"
     ]
    },
    {
     "name": "stdout",
     "output_type": "stream",
     "text": [
      "Your cards [8, 9], current score: 17\n",
      "Computer's first card: [9]\n"
     ]
    },
    {
     "name": "stdin",
     "output_type": "stream",
     "text": [
      "Do you want another card? Type 'y' or 'n':  y\n"
     ]
    },
    {
     "name": "stdout",
     "output_type": "stream",
     "text": [
      "Your cards [8, 9, 5], current score: 26\n",
      "You final hand: [8, 9, 5], final score: 26\n",
      "Computer's final hand: [9, 4], final score: 13\n",
      "You won!\n"
     ]
    },
    {
     "name": "stdin",
     "output_type": "stream",
     "text": [
      "Do you want to play a game of Blackjack? Type 'y' or 'n':  y\n"
     ]
    },
    {
     "name": "stdout",
     "output_type": "stream",
     "text": [
      "Your cards [2, 8], current score: 10\n",
      "Computer's first card: [7]\n"
     ]
    },
    {
     "name": "stdin",
     "output_type": "stream",
     "text": [
      "Do you want another card? Type 'y' or 'n':  y\n"
     ]
    },
    {
     "name": "stdout",
     "output_type": "stream",
     "text": [
      "Your cards [2, 8, 6], current score: 18\n",
      "You final hand: [2, 8, 6], final score: 18\n",
      "Computer's final hand: [7, 10], final score: 17\n",
      "You won!\n"
     ]
    },
    {
     "name": "stdin",
     "output_type": "stream",
     "text": [
      "Do you want to play a game of Blackjack? Type 'y' or 'n':  y\n"
     ]
    },
    {
     "name": "stdout",
     "output_type": "stream",
     "text": [
      "Your cards [10, 3], current score: 13\n",
      "Computer's first card: [6]\n"
     ]
    },
    {
     "name": "stdin",
     "output_type": "stream",
     "text": [
      "Do you want another card? Type 'y' or 'n':  y\n"
     ]
    },
    {
     "name": "stdout",
     "output_type": "stream",
     "text": [
      "Your cards [10, 3, 10], current score: 16\n",
      "You final hand: [10, 3, 10], final score: 16\n",
      "Computer's final hand: [6, 3], final score: 9\n",
      "You won!\n"
     ]
    },
    {
     "name": "stdin",
     "output_type": "stream",
     "text": [
      "Do you want to play a game of Blackjack? Type 'y' or 'n':  y\n"
     ]
    },
    {
     "name": "stdout",
     "output_type": "stream",
     "text": [
      "Your cards [7, 2], current score: 9\n",
      "Computer's first card: [6]\n"
     ]
    }
   ],
   "source": [
    "import random\n",
    "\n",
    "# Define card deck\n",
    "cards = [11, 2, 3, 4, 5, 6, 7, 8, 9, 10, 10, 10, 10]\n",
    "\n",
    "def calculate_score(hand):\n",
    "    \"\"\"Calculates the score of a given hand, handling Aces (11 → 1 when needed).\"\"\"\n",
    "    score = sum(hand)\n",
    "    \n",
    "    # Convert Ace (11) to (1) if the score exceeds 21\n",
    "    while 11 in hand and score > 21:\n",
    "        hand[hand.index(11)] = 1  # Change one Ace (11) to 1\n",
    "        score = sum(hand)\n",
    "    \n",
    "    return score\n",
    "\n",
    "def blackjack():\n",
    "    \"\"\"Main function to play one round of Blackjack.\"\"\"\n",
    "    user = [random.choice(cards), random.choice(cards)]\n",
    "    computer = [random.choice(cards)]\n",
    "    \n",
    "    user_score = calculate_score(user)\n",
    "    computer_score = calculate_score(computer)\n",
    "\n",
    "    print(f\"\\nYour cards: {user}, current score: {user_score}\")\n",
    "    print(f\"Computer's first card: {computer[0]}\")\n",
    "\n",
    "    # Player's turn\n",
    "    while user_score < 21:\n",
    "        another = input(\"Do you want another card? Type 'y' or 'n': \").lower()\n",
    "        if another == \"y\":\n",
    "            user.append(random.choice(cards))\n",
    "            user_score = calculate_score(user)  # Recalculate after drawing a card\n",
    "            print(f\"\\nYour cards: {user}, current score: {user_score}\")\n",
    "        else:\n",
    "            break\n",
    "\n",
    "    # If user busts (score > 21), they lose immediately\n",
    "    if user_score > 21:\n",
    "        print(\"\\nYou went over 21. You lose!\")\n",
    "        print(f\"Your final hand: {user}, final score: {user_score}\")\n",
    "        return\n",
    "\n",
    "    # Computer's turn: Draw cards until at least 17\n",
    "    while computer_score < 17:\n",
    "        computer.append(random.choice(cards))\n",
    "        computer_score = calculate_score(computer)\n",
    "\n",
    "    # Show final hands\n",
    "    print(\"\\n Final Results:\")\n",
    "    print(f\"Your final hand: {user}, final score: {user_score}\")\n",
    "    print(f\"Computer's final hand: {computer}, final score: {computer_score}\")\n",
    "\n",
    "    # Determine winner\n",
    "    if computer_score > 21 or user_score > computer_score:\n",
    "        print(\"You won!\")\n",
    "    elif user_score < computer_score:\n",
    "        print(\"You lost!\")\n",
    "    else:\n",
    "        print(\"It's a draw!\")\n",
    "\n",
    "while True:\n",
    "    choice = input(\"\\nDo you want to play a game of Blackjack? Type 'y' or 'n': \").lower()\n",
    "    if choice == \"y\":\n",
    "        blackjack()\n",
    "    else:\n",
    "        print(\"Thanks for playing! Goodbye!\")\n",
    "        break\n"
   ]
  },
  {
   "cell_type": "code",
   "execution_count": null,
   "id": "1d78c05a-9fa6-4b73-8c06-d6f16df4e814",
   "metadata": {},
   "outputs": [],
   "source": []
  }
 ],
 "metadata": {
  "kernelspec": {
   "display_name": "Python 3 (ipykernel)",
   "language": "python",
   "name": "python3"
  },
  "language_info": {
   "codemirror_mode": {
    "name": "ipython",
    "version": 3
   },
   "file_extension": ".py",
   "mimetype": "text/x-python",
   "name": "python",
   "nbconvert_exporter": "python",
   "pygments_lexer": "ipython3",
   "version": "3.12.4"
  }
 },
 "nbformat": 4,
 "nbformat_minor": 5
}
