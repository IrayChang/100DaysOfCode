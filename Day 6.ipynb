{
 "cells": [
  {
   "cell_type": "markdown",
   "id": "47a787a9-5384-426c-bb22-281227708157",
   "metadata": {},
   "source": [
    "# Day 6 - Escaping the Maze"
   ]
  },
  {
   "cell_type": "code",
   "execution_count": 3,
   "id": "7fe9cc2e-645e-4c4f-b731-bdfbc715e5d1",
   "metadata": {},
   "outputs": [
    {
     "ename": "NameError",
     "evalue": "name 'at_goal' is not defined",
     "output_type": "error",
     "traceback": [
      "\u001b[0;31m---------------------------------------------------------------------------\u001b[0m",
      "\u001b[0;31mNameError\u001b[0m                                 Traceback (most recent call last)",
      "Cell \u001b[0;32mIn[3], line 6\u001b[0m\n\u001b[1;32m      3\u001b[0m     turn_left()\n\u001b[1;32m      4\u001b[0m     turn_left()\n\u001b[0;32m----> 6\u001b[0m \u001b[38;5;28;01mwhile\u001b[39;00m \u001b[38;5;129;01mnot\u001b[39;00m at_goal():\n\u001b[1;32m      7\u001b[0m     \u001b[38;5;28;01mif\u001b[39;00m right_is_clear():\n\u001b[1;32m      8\u001b[0m         turn_right()\n",
      "\u001b[0;31mNameError\u001b[0m: name 'at_goal' is not defined"
     ]
    }
   ],
   "source": [
    "# all the functions except turn_right() are built in Reeborg's World\n",
    "\n",
    "def turn_right():\n",
    "    turn_left()\n",
    "    turn_left()\n",
    "    turn_left()\n",
    "\n",
    "while front_is_clear():\n",
    "    move()\n",
    "\n",
    "turn_left()\n",
    "\n",
    "while not at_goal():\n",
    "    if right_is_clear():\n",
    "        turn_right()\n",
    "        move()\n",
    "    elif front_is_clear():\n",
    "        move()\n",
    "    else:  \n",
    "        turn_left()"
   ]
  },
  {
   "cell_type": "code",
   "execution_count": null,
   "id": "30a7bef7-05b7-4421-b448-d5f6dce8f093",
   "metadata": {},
   "outputs": [],
   "source": []
  }
 ],
 "metadata": {
  "kernelspec": {
   "display_name": "Python 3 (ipykernel)",
   "language": "python",
   "name": "python3"
  },
  "language_info": {
   "codemirror_mode": {
    "name": "ipython",
    "version": 3
   },
   "file_extension": ".py",
   "mimetype": "text/x-python",
   "name": "python",
   "nbconvert_exporter": "python",
   "pygments_lexer": "ipython3",
   "version": "3.12.4"
  }
 },
 "nbformat": 4,
 "nbformat_minor": 5
}
