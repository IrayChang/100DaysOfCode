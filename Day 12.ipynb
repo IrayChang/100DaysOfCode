{
 "cells": [
  {
   "cell_type": "markdown",
   "id": "4861d507-be5a-4b35-b942-6ea841e7d99f",
   "metadata": {},
   "source": [
    "# Day 12 - Number Guessing Project"
   ]
  },
  {
   "cell_type": "code",
   "execution_count": 62,
   "id": "caeb8e6a-4013-42b7-a507-70a306e6b08c",
   "metadata": {},
   "outputs": [
    {
     "name": "stdout",
     "output_type": "stream",
     "text": [
      "Welcome to the Number Guessing Game!\n",
      "I am thinking of a number between 1 and 100.\n"
     ]
    },
    {
     "name": "stdin",
     "output_type": "stream",
     "text": [
      "Choose a difficulty. Type 'easy' or 'hard' ah;df\n"
     ]
    },
    {
     "name": "stdout",
     "output_type": "stream",
     "text": [
      "Invalid input! Please enter: easy, hard\n"
     ]
    },
    {
     "name": "stdin",
     "output_type": "stream",
     "text": [
      "Choose a difficulty. Type 'easy' or 'hard' hard\n"
     ]
    },
    {
     "name": "stdout",
     "output_type": "stream",
     "text": [
      "You have 5 attempts remaining to gusee\n"
     ]
    },
    {
     "name": "stdin",
     "output_type": "stream",
     "text": [
      "Make a guess:  jad;s\n"
     ]
    },
    {
     "name": "stdout",
     "output_type": "stream",
     "text": [
      "Invalid input! Please enter a number.\n"
     ]
    },
    {
     "name": "stdin",
     "output_type": "stream",
     "text": [
      "Make a guess:  50\n"
     ]
    },
    {
     "name": "stdout",
     "output_type": "stream",
     "text": [
      "Too high\n",
      "You have 4 attempts remaining to gusee\n"
     ]
    },
    {
     "name": "stdin",
     "output_type": "stream",
     "text": [
      "Make a guess:  30\n"
     ]
    },
    {
     "name": "stdout",
     "output_type": "stream",
     "text": [
      "Too high\n",
      "You have 3 attempts remaining to gusee\n"
     ]
    },
    {
     "name": "stdin",
     "output_type": "stream",
     "text": [
      "Make a guess:  20\n"
     ]
    },
    {
     "name": "stdout",
     "output_type": "stream",
     "text": [
      "Too low\n",
      "You have 2 attempts remaining to gusee\n"
     ]
    },
    {
     "name": "stdin",
     "output_type": "stream",
     "text": [
      "Make a guess:  25\n"
     ]
    },
    {
     "name": "stdout",
     "output_type": "stream",
     "text": [
      "Too high\n",
      "You have 1 attempts remaining to gusee\n"
     ]
    },
    {
     "name": "stdin",
     "output_type": "stream",
     "text": [
      "Make a guess:  23\n"
     ]
    },
    {
     "name": "stdout",
     "output_type": "stream",
     "text": [
      "Too high\n",
      "Game Over! The correct number was 21.\n"
     ]
    },
    {
     "name": "stdin",
     "output_type": "stream",
     "text": [
      "Do you want to play again? Type 'y' to continue and 'n' to exit y\n"
     ]
    },
    {
     "name": "stdout",
     "output_type": "stream",
     "text": [
      "Welcome to the Number Guessing Game!\n",
      "I am thinking of a number between 1 and 100.\n"
     ]
    },
    {
     "name": "stdin",
     "output_type": "stream",
     "text": [
      "Choose a difficulty. Type 'easy' or 'hard' east\n"
     ]
    },
    {
     "name": "stdout",
     "output_type": "stream",
     "text": [
      "Invalid input! Please enter: easy, hard\n"
     ]
    },
    {
     "name": "stdin",
     "output_type": "stream",
     "text": [
      "Choose a difficulty. Type 'easy' or 'hard' east\n"
     ]
    },
    {
     "name": "stdout",
     "output_type": "stream",
     "text": [
      "Invalid input! Please enter: easy, hard\n"
     ]
    },
    {
     "name": "stdin",
     "output_type": "stream",
     "text": [
      "Choose a difficulty. Type 'easy' or 'hard' easy\n"
     ]
    },
    {
     "name": "stdout",
     "output_type": "stream",
     "text": [
      "You have 10 attempts remaining to gusee\n"
     ]
    },
    {
     "name": "stdin",
     "output_type": "stream",
     "text": [
      "Make a guess:  50\n"
     ]
    },
    {
     "name": "stdout",
     "output_type": "stream",
     "text": [
      "Too low\n",
      "You have 9 attempts remaining to gusee\n"
     ]
    },
    {
     "name": "stdin",
     "output_type": "stream",
     "text": [
      "Make a guess:  80\n"
     ]
    },
    {
     "name": "stdout",
     "output_type": "stream",
     "text": [
      "Too low\n",
      "You have 8 attempts remaining to gusee\n"
     ]
    },
    {
     "name": "stdin",
     "output_type": "stream",
     "text": [
      "Make a guess:  90\n"
     ]
    },
    {
     "name": "stdout",
     "output_type": "stream",
     "text": [
      "Too low\n",
      "You have 7 attempts remaining to gusee\n"
     ]
    },
    {
     "name": "stdin",
     "output_type": "stream",
     "text": [
      "Make a guess:  95\n"
     ]
    },
    {
     "name": "stdout",
     "output_type": "stream",
     "text": [
      "Too low\n",
      "You have 6 attempts remaining to gusee\n"
     ]
    },
    {
     "name": "stdin",
     "output_type": "stream",
     "text": [
      "Make a guess:  99\n"
     ]
    },
    {
     "name": "stdout",
     "output_type": "stream",
     "text": [
      "Too high\n",
      "You have 5 attempts remaining to gusee\n"
     ]
    },
    {
     "name": "stdin",
     "output_type": "stream",
     "text": [
      "Make a guess:  97\n"
     ]
    },
    {
     "name": "stdout",
     "output_type": "stream",
     "text": [
      "Too low\n",
      "You have 4 attempts remaining to gusee\n"
     ]
    },
    {
     "name": "stdin",
     "output_type": "stream",
     "text": [
      "Make a guess:  98\n"
     ]
    },
    {
     "name": "stdout",
     "output_type": "stream",
     "text": [
      "Bingo!\n",
      "Congratulations! You guessed the number: 98\n"
     ]
    },
    {
     "name": "stdin",
     "output_type": "stream",
     "text": [
      "Do you want to play again? Type 'y' to continue and 'n' to exit n\n"
     ]
    },
    {
     "name": "stdout",
     "output_type": "stream",
     "text": [
      "Thank you\n"
     ]
    }
   ],
   "source": [
    "import random\n",
    "\n",
    "num_list = []\n",
    "\n",
    "for i in range(1, 101):\n",
    "    num_list.append(i)\n",
    "\n",
    "def game():\n",
    "    return random.choice(num_list)\n",
    "\n",
    "# Alternative: \n",
    "# from random import randint\n",
    "# randint(1, 100)\n",
    "\n",
    "def compare(a, b):\n",
    "    if a > b:\n",
    "        return(\"Too high\")\n",
    "    elif a < b:\n",
    "        return(\"Too low\")\n",
    "    else:\n",
    "        return(\"Bingo!\")\n",
    "\n",
    "def valid_response(promt, valid_responses):\n",
    "    while True:\n",
    "        respond = input(promt).lower()\n",
    "        if respond in valid_responses:\n",
    "            return respond\n",
    "        else:\n",
    "             print(\"Invalid input! Please enter:\", ', '.join(valid_responses))\n",
    "\n",
    "def valid_guess():\n",
    "    while True:\n",
    "        try:\n",
    "            return int(input(\"Make a guess: \"))\n",
    "        except ValueError:\n",
    "            print(\"Invalid input! Please enter a number.\")\n",
    "\n",
    "def rule(attempt):\n",
    "    answer = game()\n",
    "    guess = 0\n",
    "    while attempt > 0:\n",
    "        print(f\"You have {attempt} attempts remaining to gusee\")\n",
    "        guess = valid_guess()\n",
    "        result = compare(guess, answer)\n",
    "        print(result)\n",
    "\n",
    "        if result == \"Bingo!\":\n",
    "            print(f\"Congratulations! You guessed the number: {answer}\")\n",
    "            return  #\n",
    "        else:\n",
    "            attempt -= 1\n",
    "\n",
    "    print(f\"Game Over! The correct number was {answer}.\")\n",
    "                    \n",
    "\n",
    "def start_game():\n",
    "    while True:\n",
    "        print(\"Welcome to the Number Guessing Game!\")\n",
    "        print(\"I am thinking of a number between 1 and 100.\")\n",
    "        \n",
    "        difficulty = valid_response(\"Choose a difficulty. Type 'easy' or 'hard'\", [\"easy\", \"hard\"]) \n",
    "        attempts = 10 if difficulty == \"easy\" else 5\n",
    "\n",
    "        rule(attempts)\n",
    "    \n",
    "        choice = input(\"Do you want to play again? Type 'y' to continue and 'n' to exit\")\n",
    "    \n",
    "        if choice == \"n\":\n",
    "            print(\"Thank you\")\n",
    "            break\n",
    "        else:\n",
    "            continue\n",
    "    \n",
    "start_game()\n",
    "    \n",
    "    "
   ]
  },
  {
   "cell_type": "code",
   "execution_count": null,
   "id": "a83c3e2c-898b-41e2-8db8-02d2bb7fcca6",
   "metadata": {},
   "outputs": [],
   "source": []
  }
 ],
 "metadata": {
  "kernelspec": {
   "display_name": "Python 3 (ipykernel)",
   "language": "python",
   "name": "python3"
  },
  "language_info": {
   "codemirror_mode": {
    "name": "ipython",
    "version": 3
   },
   "file_extension": ".py",
   "mimetype": "text/x-python",
   "name": "python",
   "nbconvert_exporter": "python",
   "pygments_lexer": "ipython3",
   "version": "3.12.4"
  }
 },
 "nbformat": 4,
 "nbformat_minor": 5
}
