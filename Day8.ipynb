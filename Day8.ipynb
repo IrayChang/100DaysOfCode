{
 "cells": [
  {
   "cell_type": "markdown",
   "id": "e0af1924-7f48-4b5d-a42a-300f3bcf5ada",
   "metadata": {},
   "source": [
    "# Day 8 - Caeser Cypher"
   ]
  },
  {
   "cell_type": "code",
   "execution_count": 1,
   "id": "ea4371ea-6b51-448d-b00d-87716ab87738",
   "metadata": {},
   "outputs": [],
   "source": [
    "import string\n",
    "\n",
    "def encrypt(original_text, shift_amount):\n",
    "    alphabet = list(string.ascii_lowercase)\n",
    "    text_encoded = \"\"\n",
    "\n",
    "    for char in original_text:\n",
    "        if char in alphabet:\n",
    "            old_index = alphabet.index(char)\n",
    "            new_index = (old_index + shift_amount) % 26\n",
    "            text_encoded += alphabet[new_index]\n",
    "\n",
    "    print(\"Here is the encoded result: \" + text_encoded)"
   ]
  },
  {
   "cell_type": "code",
   "execution_count": 3,
   "id": "64083ed0-b942-46aa-ac50-b3b0c9e0f365",
   "metadata": {},
   "outputs": [],
   "source": [
    "def decrypt(original_text, shift_amount):\n",
    "    alphabet = list(string.ascii_lowercase)\n",
    "    text_decoded = \"\"\n",
    "\n",
    "    for char in original_text:\n",
    "        if char in alphabet:\n",
    "            old_index = alphabet.index(char)\n",
    "            new_index = (old_index - shift_amount) % 26\n",
    "            text_decoded += alphabet[new_index]\n",
    "\n",
    "    print(\"Here is the decoded result: \" + text_decoded)"
   ]
  },
  {
   "cell_type": "code",
   "execution_count": 23,
   "id": "2691f861-1d15-4160-be16-37ee82cd9e3d",
   "metadata": {},
   "outputs": [
    {
     "name": "stdin",
     "output_type": "stream",
     "text": [
      "Type 'encode' to encrypt, type 'decode' to decrypt, or 'exit' to exit the game:\n",
      " asf\n"
     ]
    },
    {
     "name": "stdout",
     "output_type": "stream",
     "text": [
      "Invalid input! Please enter 'encode' or 'decode'.\n"
     ]
    },
    {
     "name": "stdin",
     "output_type": "stream",
     "text": [
      "Type 'encode' to encrypt, type 'decode' to decrypt, or 'exit' to exit the game:\n",
      " encode\n",
      "Type your message:\n",
      " love\n",
      "Type the shift number:\n",
      " 10\n"
     ]
    },
    {
     "name": "stdout",
     "output_type": "stream",
     "text": [
      "Here is the encoded result: vyfo\n"
     ]
    },
    {
     "name": "stdin",
     "output_type": "stream",
     "text": [
      "Type 'encode' to encrypt, type 'decode' to decrypt, or 'exit' to exit the game:\n",
      " decode\n",
      "Type your message:\n",
      " crrng\n",
      "Type the shift number:\n",
      " 2\n"
     ]
    },
    {
     "name": "stdout",
     "output_type": "stream",
     "text": [
      "Here is the decoded result: apple\n"
     ]
    },
    {
     "name": "stdin",
     "output_type": "stream",
     "text": [
      "Type 'encode' to encrypt, type 'decode' to decrypt, or 'exit' to exit the game:\n",
      " exit\n"
     ]
    },
    {
     "name": "stdout",
     "output_type": "stream",
     "text": [
      "Goodbye~\n"
     ]
    }
   ],
   "source": [
    "while True:  \n",
    "    option = str(input(\"Type 'encode' to encrypt, type 'decode' to decrypt, or 'exit' to exit the game:\\n\"))\n",
    "    if option != \"encode\" and option != \"decode\" and option != \"exit\":\n",
    "        print(\"Invalid input! Please enter 'encode' or 'decode'.\")\n",
    "        continue\n",
    "        \n",
    "    if option == \"encode\":\n",
    "        text = str(input(\"Type your message:\\n\"))\n",
    "        shift = int(input(\"Type the shift number:\\n\"))\n",
    "        encrypt(text, shift)\n",
    "    elif option == \"decode\":\n",
    "        text = str(input(\"Type your message:\\n\"))\n",
    "        shift = int(input(\"Type the shift number:\\n\"))\n",
    "        decrypt(text, shift)\n",
    "    else:\n",
    "        print(\"Goodbye~\")\n",
    "        break\n",
    "    \n",
    "    "
   ]
  },
  {
   "cell_type": "code",
   "execution_count": null,
   "id": "b1fdd01b-e4c3-4d3f-bd3e-17cdbebf7345",
   "metadata": {},
   "outputs": [],
   "source": []
  }
 ],
 "metadata": {
  "kernelspec": {
   "display_name": "Python 3 (ipykernel)",
   "language": "python",
   "name": "python3"
  },
  "language_info": {
   "codemirror_mode": {
    "name": "ipython",
    "version": 3
   },
   "file_extension": ".py",
   "mimetype": "text/x-python",
   "name": "python",
   "nbconvert_exporter": "python",
   "pygments_lexer": "ipython3",
   "version": "3.12.4"
  }
 },
 "nbformat": 4,
 "nbformat_minor": 5
}
