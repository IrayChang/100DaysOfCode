{
 "cells": [
  {
   "cell_type": "markdown",
   "id": "d4672dbb-d9cc-493e-8ce4-81f02b11d6bd",
   "metadata": {},
   "source": [
    "# Day 5 - Password Generator"
   ]
  },
  {
   "cell_type": "code",
   "execution_count": 42,
   "id": "fc994a45-6848-466d-a0c1-389c24ea841d",
   "metadata": {},
   "outputs": [
    {
     "name": "stdout",
     "output_type": "stream",
     "text": [
      "Welcome to the PyPassword Generator!\n"
     ]
    },
    {
     "name": "stdin",
     "output_type": "stream",
     "text": [
      "How many lowercase letters would you like in your password?\n",
      " 7\n",
      "How many uppercase letters would you like in your password?\n",
      " 1\n",
      "How many symbols would you like?\n",
      " 1\n",
      "How many numbers would you like?\n",
      " 4\n"
     ]
    },
    {
     "name": "stdout",
     "output_type": "stream",
     "text": [
      "Your password is: d2jGln09ce5^x\n"
     ]
    }
   ],
   "source": [
    "import string\n",
    "import random\n",
    "\n",
    "lowercases = []\n",
    "uppercases = []\n",
    "numbers = []\n",
    "symbols = [\"!\", \"@\", \"#\", \"$\", \"%\", \"^\", \"&\", \"*\", \"(\", \")\", \"_\", \"+\"]\n",
    "password = []\n",
    "final_password = \"\"\n",
    "\n",
    "for lowercase in range(26):\n",
    "    lowercases.append(string.ascii_lowercase[lowercase])\n",
    "\n",
    "for uppercase in range(26):\n",
    "    uppercases.append(string.ascii_uppercase[uppercase])\n",
    "\n",
    "for number in range(10):\n",
    "    numbers.append(str(number))\n",
    "\n",
    "print(\"Welcome to the PyPassword Generator!\")\n",
    "total_lowercases = int(input(\"How many lowercase letters would you like in your password?\\n\"))\n",
    "total_uppercases = int(input(\"How many uppercase letters would you like in your password?\\n\"))\n",
    "total_symbols = int(input(\"How many symbols would you like?\\n\"))\n",
    "total_numbers = int(input(\"How many numbers would you like?\\n\"))\n",
    "total_passwords = total_lowercases + total_uppercases + total_symbols + total_numbers\n",
    "\n",
    "for total_lowercase in range(total_lowercases):\n",
    "    password.append(random.choice(lowercases))\n",
    "\n",
    "for total_uppercase in range(total_uppercases):\n",
    "    password.append(random.choice(uppercases))\n",
    "\n",
    "for total_symbol in range(total_symbols):\n",
    "    password.append(random.choice(symbols))\n",
    "    \n",
    "for total_number in range(total_numbers):\n",
    "    password.append(random.choice(numbers))\n",
    "\n",
    "random.shuffle(password)  # 隨機打亂順序\n",
    "final_password = \"\".join(password)  # 轉換成字串\n",
    "\n",
    "print(\"Your password is: \" + final_password)\n",
    " "
   ]
  },
  {
   "cell_type": "code",
   "execution_count": null,
   "id": "d20dbd1c-4437-4bb8-8a7f-bb102184a487",
   "metadata": {},
   "outputs": [],
   "source": []
  }
 ],
 "metadata": {
  "kernelspec": {
   "display_name": "Python 3 (ipykernel)",
   "language": "python",
   "name": "python3"
  },
  "language_info": {
   "codemirror_mode": {
    "name": "ipython",
    "version": 3
   },
   "file_extension": ".py",
   "mimetype": "text/x-python",
   "name": "python",
   "nbconvert_exporter": "python",
   "pygments_lexer": "ipython3",
   "version": "3.12.4"
  }
 },
 "nbformat": 4,
 "nbformat_minor": 5
}
