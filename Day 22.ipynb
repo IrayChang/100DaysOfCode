{
 "cells": [
  {
   "cell_type": "markdown",
   "id": "592f9b4f-5839-419b-921a-af597cff5832",
   "metadata": {},
   "source": [
    "# The Pong Game"
   ]
  },
  {
   "cell_type": "markdown",
   "id": "482773f7-1898-4f64-ae8e-4e2e21017a28",
   "metadata": {},
   "source": [
    "Break- down steps:\n",
    "1. Create the screen\n",
    "2. Create and move a paddle\n",
    "3. Create another paddle\n",
    "4. Create a ball and make it move\n",
    "5. Detect collision with wall and bounce\n",
    "6. Detect collision with paddle\n",
    "7. Detect when paddle misses\n",
    "8. Keep score"
   ]
  },
  {
   "cell_type": "code",
   "execution_count": 3,
   "id": "bc5e9a26-a936-46fe-9806-203c728b1c3a",
   "metadata": {},
   "outputs": [],
   "source": [
    "from turtle import Turtle, Screen\n",
    "import random\n",
    "import time\n",
    "\n",
    "# 1. Set the screen\n",
    "screen = Screen()\n",
    "screen.setup(width = 800, height = 600)\n",
    "screen.bgcolor(\"black\")\n",
    "screen.title(\"Pong Game\")\n",
    "screen.tracer(0)"
   ]
  },
  {
   "cell_type": "code",
   "execution_count": 4,
   "id": "7030e550-a27f-4c1e-a448-406c748c3a87",
   "metadata": {},
   "outputs": [],
   "source": [
    "class Paddle(Turtle):\n",
    "    \n",
    "    def __init__(self, position):\n",
    "        super().__init__()\n",
    "        self.shape(\"square\")\n",
    "        self.color(\"white\")\n",
    "        self.shapesize(stretch_wid=5, stretch_len=1)\n",
    "        self.penup()\n",
    "        self.goto(position)\n",
    "\n",
    "    def go_up(self):\n",
    "        new_y = self.ycor() + 20\n",
    "        self.goto(self.xcor(), new_y)\n",
    "\n",
    "    def go_down(self):\n",
    "        new_y = self.ycor() - 20\n",
    "        self.goto(self.xcor(), new_y)\n",
    "       "
   ]
  },
  {
   "cell_type": "code",
   "execution_count": 5,
   "id": "86427db1-4e62-4361-9972-e17d030bd9e5",
   "metadata": {},
   "outputs": [],
   "source": [
    "class Ball(Turtle):\n",
    "\n",
    "    def __init__(self):\n",
    "        super().__init__()\n",
    "        self.color(\"white\")\n",
    "        self.shape(\"circle\")\n",
    "        self.penup()\n",
    "        self.x_move = 3\n",
    "        self.y_move = 3\n",
    "        self.move_speed = 0.01\n",
    "\n",
    "    def move(self):\n",
    "        new_x = self.xcor() + self.x_move\n",
    "        new_y = self.ycor() + self.y_move\n",
    "        self.goto(new_x, new_y)\n",
    "\n",
    "    def bounce_y(self):\n",
    "        self.y_move *= -1\n",
    "\n",
    "    def bounce_x(self):\n",
    "        self.x_move *= -1\n",
    "        self.move_speed *= 0.9\n",
    "\n",
    "    def reset_position(self):\n",
    "        self.goto(0, 0)\n",
    "        self.move_speed = 0.01\n",
    "        self.bounce_x()"
   ]
  },
  {
   "cell_type": "code",
   "execution_count": 6,
   "id": "b5da96f9-ebf0-4862-9a2e-19fc0b6f2d9a",
   "metadata": {},
   "outputs": [],
   "source": [
    "class Scoreboard(Turtle):\n",
    "\n",
    "    def __init__(self):\n",
    "        super().__init__()\n",
    "        self.color(\"white\")\n",
    "        self.penup()\n",
    "        self.hideturtle()\n",
    "        self.l_score = 0\n",
    "        self.r_score = 0\n",
    "        self.update_scoreboard()\n",
    "\n",
    "    def update_scoreboard(self):\n",
    "        self.clear()\n",
    "        self.goto(-100, 200)\n",
    "        self.write(self.l_score, align=\"center\", font=(\"Courier\", 80, \"normal\"))\n",
    "        self.goto(100, 200)\n",
    "        self.write(self.r_score, align=\"center\", font=(\"Courier\", 80, \"normal\"))\n",
    "\n",
    "    def l_point(self):\n",
    "        self.l_score += 1\n",
    "        self.update_scoreboard()\n",
    "\n",
    "    def r_point(self):\n",
    "        self.r_score += 1\n",
    "        self.update_scoreboard()"
   ]
  },
  {
   "cell_type": "code",
   "execution_count": 7,
   "id": "2afe2b20-6895-4039-8177-df4d4663479b",
   "metadata": {},
   "outputs": [
    {
     "ename": "TclError",
     "evalue": "invalid command name \".!canvas\"",
     "output_type": "error",
     "traceback": [
      "\u001b[0;31m---------------------------------------------------------------------------\u001b[0m",
      "\u001b[0;31mTclError\u001b[0m                                  Traceback (most recent call last)",
      "Cell \u001b[0;32mIn[7], line 20\u001b[0m\n\u001b[1;32m     18\u001b[0m time\u001b[38;5;241m.\u001b[39msleep(ball\u001b[38;5;241m.\u001b[39mmove_speed)\n\u001b[1;32m     19\u001b[0m screen\u001b[38;5;241m.\u001b[39mupdate()\n\u001b[0;32m---> 20\u001b[0m ball\u001b[38;5;241m.\u001b[39mmove()\n\u001b[1;32m     22\u001b[0m \u001b[38;5;66;03m# Detect collision with wall\u001b[39;00m\n\u001b[1;32m     23\u001b[0m \u001b[38;5;28;01mif\u001b[39;00m ball\u001b[38;5;241m.\u001b[39mycor() \u001b[38;5;241m>\u001b[39m \u001b[38;5;241m280\u001b[39m \u001b[38;5;129;01mor\u001b[39;00m ball\u001b[38;5;241m.\u001b[39mycor() \u001b[38;5;241m<\u001b[39m \u001b[38;5;241m-\u001b[39m\u001b[38;5;241m280\u001b[39m:\n",
      "Cell \u001b[0;32mIn[5], line 15\u001b[0m, in \u001b[0;36mBall.move\u001b[0;34m(self)\u001b[0m\n\u001b[1;32m     13\u001b[0m new_x \u001b[38;5;241m=\u001b[39m \u001b[38;5;28mself\u001b[39m\u001b[38;5;241m.\u001b[39mxcor() \u001b[38;5;241m+\u001b[39m \u001b[38;5;28mself\u001b[39m\u001b[38;5;241m.\u001b[39mx_move\n\u001b[1;32m     14\u001b[0m new_y \u001b[38;5;241m=\u001b[39m \u001b[38;5;28mself\u001b[39m\u001b[38;5;241m.\u001b[39mycor() \u001b[38;5;241m+\u001b[39m \u001b[38;5;28mself\u001b[39m\u001b[38;5;241m.\u001b[39my_move\n\u001b[0;32m---> 15\u001b[0m \u001b[38;5;28mself\u001b[39m\u001b[38;5;241m.\u001b[39mgoto(new_x, new_y)\n",
      "File \u001b[0;32m~/anaconda3/lib/python3.12/turtle.py:1775\u001b[0m, in \u001b[0;36mTNavigator.goto\u001b[0;34m(self, x, y)\u001b[0m\n\u001b[1;32m   1773\u001b[0m     \u001b[38;5;28mself\u001b[39m\u001b[38;5;241m.\u001b[39m_goto(Vec2D(\u001b[38;5;241m*\u001b[39mx))\n\u001b[1;32m   1774\u001b[0m \u001b[38;5;28;01melse\u001b[39;00m:\n\u001b[0;32m-> 1775\u001b[0m     \u001b[38;5;28mself\u001b[39m\u001b[38;5;241m.\u001b[39m_goto(Vec2D(x, y))\n",
      "File \u001b[0;32m~/anaconda3/lib/python3.12/turtle.py:3230\u001b[0m, in \u001b[0;36mRawTurtle._goto\u001b[0;34m(self, end)\u001b[0m\n\u001b[1;32m   3222\u001b[0m go_modes \u001b[38;5;241m=\u001b[39m ( \u001b[38;5;28mself\u001b[39m\u001b[38;5;241m.\u001b[39m_drawing,\n\u001b[1;32m   3223\u001b[0m              \u001b[38;5;28mself\u001b[39m\u001b[38;5;241m.\u001b[39m_pencolor,\n\u001b[1;32m   3224\u001b[0m              \u001b[38;5;28mself\u001b[39m\u001b[38;5;241m.\u001b[39m_pensize,\n\u001b[1;32m   3225\u001b[0m              \u001b[38;5;28misinstance\u001b[39m(\u001b[38;5;28mself\u001b[39m\u001b[38;5;241m.\u001b[39m_fillpath, \u001b[38;5;28mlist\u001b[39m))\n\u001b[1;32m   3226\u001b[0m screen \u001b[38;5;241m=\u001b[39m \u001b[38;5;28mself\u001b[39m\u001b[38;5;241m.\u001b[39mscreen\n\u001b[1;32m   3227\u001b[0m undo_entry \u001b[38;5;241m=\u001b[39m (\u001b[38;5;124m\"\u001b[39m\u001b[38;5;124mgo\u001b[39m\u001b[38;5;124m\"\u001b[39m, \u001b[38;5;28mself\u001b[39m\u001b[38;5;241m.\u001b[39m_position, end, go_modes,\n\u001b[1;32m   3228\u001b[0m               (\u001b[38;5;28mself\u001b[39m\u001b[38;5;241m.\u001b[39mcurrentLineItem,\n\u001b[1;32m   3229\u001b[0m               \u001b[38;5;28mself\u001b[39m\u001b[38;5;241m.\u001b[39mcurrentLine[:],\n\u001b[0;32m-> 3230\u001b[0m               screen\u001b[38;5;241m.\u001b[39m_pointlist(\u001b[38;5;28mself\u001b[39m\u001b[38;5;241m.\u001b[39mcurrentLineItem),\n\u001b[1;32m   3231\u001b[0m               \u001b[38;5;28mself\u001b[39m\u001b[38;5;241m.\u001b[39mitems[:])\n\u001b[1;32m   3232\u001b[0m               )\n\u001b[1;32m   3233\u001b[0m \u001b[38;5;28;01mif\u001b[39;00m \u001b[38;5;28mself\u001b[39m\u001b[38;5;241m.\u001b[39mundobuffer:\n\u001b[1;32m   3234\u001b[0m     \u001b[38;5;28mself\u001b[39m\u001b[38;5;241m.\u001b[39mundobuffer\u001b[38;5;241m.\u001b[39mpush(undo_entry)\n",
      "File \u001b[0;32m~/anaconda3/lib/python3.12/turtle.py:745\u001b[0m, in \u001b[0;36mTurtleScreenBase._pointlist\u001b[0;34m(self, item)\u001b[0m\n\u001b[1;32m    737\u001b[0m \u001b[38;5;28;01mdef\u001b[39;00m \u001b[38;5;21m_pointlist\u001b[39m(\u001b[38;5;28mself\u001b[39m, item):\n\u001b[1;32m    738\u001b[0m \u001b[38;5;250m    \u001b[39m\u001b[38;5;124;03m\"\"\"returns list of coordinate-pairs of points of item\u001b[39;00m\n\u001b[1;32m    739\u001b[0m \u001b[38;5;124;03m    Example (for insiders):\u001b[39;00m\n\u001b[1;32m    740\u001b[0m \u001b[38;5;124;03m    >>> from turtle import *\u001b[39;00m\n\u001b[0;32m   (...)\u001b[0m\n\u001b[1;32m    743\u001b[0m \u001b[38;5;124;03m    (9.9999999999999982, 0.0)]\u001b[39;00m\n\u001b[1;32m    744\u001b[0m \u001b[38;5;124;03m    >>> \"\"\"\u001b[39;00m\n\u001b[0;32m--> 745\u001b[0m     cl \u001b[38;5;241m=\u001b[39m \u001b[38;5;28mself\u001b[39m\u001b[38;5;241m.\u001b[39mcv\u001b[38;5;241m.\u001b[39mcoords(item)\n\u001b[1;32m    746\u001b[0m     pl \u001b[38;5;241m=\u001b[39m [(cl[i], \u001b[38;5;241m-\u001b[39mcl[i\u001b[38;5;241m+\u001b[39m\u001b[38;5;241m1\u001b[39m]) \u001b[38;5;28;01mfor\u001b[39;00m i \u001b[38;5;129;01min\u001b[39;00m \u001b[38;5;28mrange\u001b[39m(\u001b[38;5;241m0\u001b[39m, \u001b[38;5;28mlen\u001b[39m(cl), \u001b[38;5;241m2\u001b[39m)]\n\u001b[1;32m    747\u001b[0m     \u001b[38;5;28;01mreturn\u001b[39;00m  pl\n",
      "File \u001b[0;32m<string>:1\u001b[0m, in \u001b[0;36mcoords\u001b[0;34m(self, *args, **kw)\u001b[0m\n",
      "File \u001b[0;32m~/anaconda3/lib/python3.12/tkinter/__init__.py:2851\u001b[0m, in \u001b[0;36mCanvas.coords\u001b[0;34m(self, *args)\u001b[0m\n\u001b[1;32m   2847\u001b[0m \u001b[38;5;250m\u001b[39m\u001b[38;5;124;03m\"\"\"Return a list of coordinates for the item given in ARGS.\"\"\"\u001b[39;00m\n\u001b[1;32m   2848\u001b[0m args \u001b[38;5;241m=\u001b[39m _flatten(args)\n\u001b[1;32m   2849\u001b[0m \u001b[38;5;28;01mreturn\u001b[39;00m [\u001b[38;5;28mself\u001b[39m\u001b[38;5;241m.\u001b[39mtk\u001b[38;5;241m.\u001b[39mgetdouble(x) \u001b[38;5;28;01mfor\u001b[39;00m x \u001b[38;5;129;01min\u001b[39;00m\n\u001b[1;32m   2850\u001b[0m                    \u001b[38;5;28mself\u001b[39m\u001b[38;5;241m.\u001b[39mtk\u001b[38;5;241m.\u001b[39msplitlist(\n\u001b[0;32m-> 2851\u001b[0m            \u001b[38;5;28mself\u001b[39m\u001b[38;5;241m.\u001b[39mtk\u001b[38;5;241m.\u001b[39mcall((\u001b[38;5;28mself\u001b[39m\u001b[38;5;241m.\u001b[39m_w, \u001b[38;5;124m'\u001b[39m\u001b[38;5;124mcoords\u001b[39m\u001b[38;5;124m'\u001b[39m) \u001b[38;5;241m+\u001b[39m args))]\n",
      "\u001b[0;31mTclError\u001b[0m: invalid command name \".!canvas\""
     ]
    }
   ],
   "source": [
    "# Create paddles, ball, and scoreboard\n",
    "r_paddle = Paddle((350, 0))\n",
    "l_paddle = Paddle((-350, 0))\n",
    "ball = Ball()\n",
    "scoreboard = Scoreboard()\n",
    "\n",
    "# Set up keyboard controls\n",
    "screen.listen()\n",
    "screen.onkey(r_paddle.go_up, \"Up\")\n",
    "screen.onkey(r_paddle.go_down, \"Down\")\n",
    "screen.onkey(l_paddle.go_up, \"w\")\n",
    "screen.onkey(l_paddle.go_down, \"s\")\n",
    "\n",
    "# Game loop\n",
    "game_is_on = True\n",
    "while game_is_on:\n",
    "    # Add delay based on ball speed\n",
    "    time.sleep(ball.move_speed)\n",
    "    screen.update()\n",
    "    ball.move()\n",
    "\n",
    "    # Detect collision with wall\n",
    "    if ball.ycor() > 280 or ball.ycor() < -280:\n",
    "        ball.bounce_y()\n",
    "\n",
    "    # Detect collision with paddle\n",
    "    if (ball.distance(r_paddle) < 50 and ball.xcor() > 320) or (ball.distance(l_paddle) < 50 and ball.xcor() < -320):\n",
    "        ball.bounce_x()\n",
    "\n",
    "    # Detect R paddle misses\n",
    "    if ball.xcor() > 380:\n",
    "        ball.reset_position()\n",
    "        scoreboard.l_point()\n",
    "\n",
    "    # Detect L paddle misses\n",
    "    if ball.xcor() < -380:\n",
    "        ball.reset_position()\n",
    "        scoreboard.r_point()\n",
    "\n",
    "screen.exitonclick()"
   ]
  },
  {
   "cell_type": "code",
   "execution_count": null,
   "id": "da4a6c2c-09d8-4483-a5c0-f82fb5f719a0",
   "metadata": {},
   "outputs": [],
   "source": []
  }
 ],
 "metadata": {
  "kernelspec": {
   "display_name": "Python 3 (ipykernel)",
   "language": "python",
   "name": "python3"
  },
  "language_info": {
   "codemirror_mode": {
    "name": "ipython",
    "version": 3
   },
   "file_extension": ".py",
   "mimetype": "text/x-python",
   "name": "python",
   "nbconvert_exporter": "python",
   "pygments_lexer": "ipython3",
   "version": "3.12.4"
  }
 },
 "nbformat": 4,
 "nbformat_minor": 5
}
