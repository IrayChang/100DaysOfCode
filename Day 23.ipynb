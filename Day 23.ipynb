{
 "cells": [
  {
   "cell_type": "markdown",
   "id": "6e703897-2a77-4376-901e-fd4dce00aa87",
   "metadata": {},
   "source": [
    "# The Turtle Crossing Capstone Project"
   ]
  },
  {
   "cell_type": "code",
   "execution_count": 2,
   "id": "1f9a5c07-a63c-4015-9541-e16d4f4a5de4",
   "metadata": {},
   "outputs": [],
   "source": [
    "import time\n",
    "from turtle import Screen, Turtle\n",
    "import random\n",
    "\n",
    "screen = Screen()\n",
    "screen.setup(width=600, height=600)\n",
    "screen.tracer(0)\n"
   ]
  },
  {
   "cell_type": "code",
   "execution_count": 3,
   "id": "caeb49b5-8119-412a-a280-0a04cbb508af",
   "metadata": {},
   "outputs": [],
   "source": [
    "STARTING_POSITION = (0, -280)\n",
    "MOVE_DISTANCE = 10\n",
    "FINISH_LINE_Y = 280\n",
    "\n",
    "class Player(Turtle):\n",
    "\n",
    "    def __init__(self):\n",
    "        super().__init__()\n",
    "        self.shape(\"turtle\")\n",
    "        self.setheading(90)\n",
    "        self.penup()\n",
    "        self.goto(STARTING_POSITION)\n",
    "\n",
    "    def up(self):\n",
    "        new_y = self.ycor() + MOVE_DISTANCE\n",
    "        self.goto(self.xcor(), new_y)\n"
   ]
  },
  {
   "cell_type": "code",
   "execution_count": 4,
   "id": "456b7c41-aad8-47f1-82ea-4c45900030bc",
   "metadata": {},
   "outputs": [],
   "source": [
    "COLORS = [\"red\", \"orange\", \"yellow\", \"green\", \"blue\", \"purple\"]\n",
    "STARTING_MOVE_DISTANCE = 5\n",
    "MOVE_INCREMENT = 10\n",
    "\n",
    "\n",
    "class CarManager:\n",
    "    def __init__(self):\n",
    "        self.all_cars = []\n",
    "        self.car_speed = STARTING_MOVE_DISTANCE\n",
    "        \n",
    "    def create_car(self):\n",
    "        # Don't create a car every time - add randomness\n",
    "        random_chance = random.randint(1, 6)\n",
    "        if random_chance == 1:\n",
    "            new_car = Turtle(\"square\")\n",
    "            new_car.shapesize(stretch_wid=1, stretch_len=2)\n",
    "            new_car.penup()\n",
    "            new_car.color(random.choice(COLORS))\n",
    "            random_y = random.randint(-250, 250)\n",
    "            new_car.goto(300, random_y)\n",
    "            self.all_cars.append(new_car)\n",
    "            \n",
    "    def move_cars(self):\n",
    "        for car in self.all_cars:\n",
    "            car.backward(self.car_speed)\n",
    "            \n",
    "    def level_up(self):\n",
    "        self.car_speed += MOVE_INCREMENT\n",
    "\n",
    "        "
   ]
  },
  {
   "cell_type": "code",
   "execution_count": 5,
   "id": "3c4ba7d7-e517-40bc-90b1-6983b8fb318d",
   "metadata": {},
   "outputs": [],
   "source": [
    "FONT = (\"Courier\", 24, \"normal\")\n",
    "\n",
    "\n",
    "class Scoreboard(Turtle):\n",
    "\n",
    "    def __init__(self):\n",
    "        super().__init__()\n",
    "        self.color(\"black\")\n",
    "        self.penup()\n",
    "        self.hideturtle()\n",
    "        self.score = 0\n",
    "        self.update_scoreboard()\n",
    "\n",
    "    def update_scoreboard(self):\n",
    "        self.clear()\n",
    "        self.goto(-220, 250)\n",
    "        self.write(f\"Level: {self.score}\", align=\"center\", font=(\"Courier\", 20, \"normal\"))\n",
    "\n",
    "    def level_up(self):\n",
    "        self.score += 1\n",
    "        self.update_scoreboard()\n",
    "\n",
    "    def game_over(self):\n",
    "        self.home()\n",
    "        self.write(\"Game Over\", align=\"center\", font=(\"Courier\", 20, \"normal\"))\n",
    "        "
   ]
  },
  {
   "cell_type": "code",
   "execution_count": 6,
   "id": "602c36db-4345-4a94-8831-fcc25e7e4182",
   "metadata": {},
   "outputs": [
    {
     "name": "stderr",
     "output_type": "stream",
     "text": [
      "2025-03-13 22:26:28.177 python[14113:312649] +[IMKClient subclass]: chose IMKClient_Modern\n",
      "2025-03-13 22:26:28.177 python[14113:312649] +[IMKInputSession subclass]: chose IMKInputSession_Modern\n"
     ]
    }
   ],
   "source": [
    "turtle = Player()\n",
    "cars = CarManager()\n",
    "score = Scoreboard()\n",
    "\n",
    "screen.listen()\n",
    "screen.onkey(turtle.up, \"Up\")\n",
    "\n",
    "game_is_on = True\n",
    "while game_is_on:\n",
    "    time.sleep(0.1)\n",
    "    screen.update()\n",
    "\n",
    "    cars.create_car()\n",
    "    cars.move_cars()\n",
    "\n",
    "    if turtle.ycor() > 280:\n",
    "        cars.level_up()\n",
    "        score.level_up()\n",
    "        turtle.goto(STARTING_POSITION)\n",
    "\n",
    "    for car in cars.all_cars:\n",
    "        if turtle.distance(car) < 20:\n",
    "            game_is_on = False\n",
    "            score.game_over()\n",
    "\n",
    "\n",
    "screen.exitonclick()"
   ]
  }
 ],
 "metadata": {
  "kernelspec": {
   "display_name": "Python 3 (ipykernel)",
   "language": "python",
   "name": "python3"
  },
  "language_info": {
   "codemirror_mode": {
    "name": "ipython",
    "version": 3
   },
   "file_extension": ".py",
   "mimetype": "text/x-python",
   "name": "python",
   "nbconvert_exporter": "python",
   "pygments_lexer": "ipython3",
   "version": "3.12.4"
  }
 },
 "nbformat": 4,
 "nbformat_minor": 5
}
