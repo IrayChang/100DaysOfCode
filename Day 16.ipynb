{
 "cells": [
  {
   "cell_type": "markdown",
   "id": "f2104554-0b98-407e-86cb-271b62a17f09",
   "metadata": {},
   "source": [
    "# Day 16 - Objective Oriented Programming(OOP)"
   ]
  },
  {
   "cell_type": "code",
   "execution_count": 6,
   "id": "98497546-02d8-4eed-8665-87b13aeb05d7",
   "metadata": {},
   "outputs": [],
   "source": [
    "class CoffeeMaker:\n",
    "    \"\"\"Models the machine that makes the coffee\"\"\"\n",
    "    def __init__(self):\n",
    "        self.resources = {\n",
    "            \"water\": 300,\n",
    "            \"milk\": 200,\n",
    "            \"coffee\": 100,\n",
    "        }\n",
    "\n",
    "    def report(self):\n",
    "        \"\"\"Prints a report of all resources.\"\"\"\n",
    "        print(f\"Water: {self.resources['water']}ml\")\n",
    "        print(f\"Milk: {self.resources['milk']}ml\")\n",
    "        print(f\"Coffee: {self.resources['coffee']}g\")\n",
    "\n",
    "    def is_resource_sufficient(self, drink):\n",
    "        \"\"\"Returns True when order can be made, False if ingredients are insufficient.\"\"\"\n",
    "        can_make = True\n",
    "        for item in drink.ingredients:\n",
    "            if drink.ingredients[item] > self.resources[item]:\n",
    "                print(f\"Sorry there is not enough {item}.\")\n",
    "                can_make = False\n",
    "        return can_make\n",
    "\n",
    "    def make_coffee(self, order):\n",
    "        \"\"\"Deducts the required ingredients from the resources.\"\"\"\n",
    "        for item in order.ingredients:\n",
    "            self.resources[item] -= order.ingredients[item]\n",
    "        print(f\"Here is your {order.name} ☕️. Enjoy!\")\n",
    "\n",
    "class MenuItem:\n",
    "    \"\"\"Models each Menu Item.\"\"\"\n",
    "    def __init__(self, name, water, milk, coffee, cost):\n",
    "        self.name = name\n",
    "        self.cost = cost\n",
    "        self.ingredients = {\n",
    "            \"water\": water,\n",
    "            \"milk\": milk,\n",
    "            \"coffee\": coffee\n",
    "        }\n",
    "\n",
    "\n",
    "class Menu:\n",
    "    \"\"\"Models the Menu with drinks.\"\"\"\n",
    "    def __init__(self):\n",
    "        self.menu = [\n",
    "            MenuItem(name=\"latte\", water=200, milk=150, coffee=24, cost=2.5),\n",
    "            MenuItem(name=\"espresso\", water=50, milk=0, coffee=18, cost=1.5),\n",
    "            MenuItem(name=\"cappuccino\", water=250, milk=50, coffee=24, cost=3),\n",
    "        ]\n",
    "\n",
    "    def get_items(self):\n",
    "        \"\"\"Returns all the names of the available menu items\"\"\"\n",
    "        options = \"\"\n",
    "        for item in self.menu:\n",
    "            options += f\"{item.name}/\"\n",
    "        return options\n",
    "\n",
    "    def find_drink(self, order_name):\n",
    "        \"\"\"Searches the menu for a particular drink by name. Returns that item if it exists, otherwise returns None\"\"\"\n",
    "        for item in self.menu:\n",
    "            if item.name == order_name:\n",
    "                return item\n",
    "        print(\"Sorry that item is not available.\")\n",
    "\n",
    "class MoneyMachine:\n",
    "\n",
    "    CURRENCY = \"$\"\n",
    "\n",
    "    COIN_VALUES = {\n",
    "        \"quarters\": 0.25,\n",
    "        \"dimes\": 0.10,\n",
    "        \"nickles\": 0.05,\n",
    "        \"pennies\": 0.01\n",
    "    }\n",
    "\n",
    "    def __init__(self):\n",
    "        self.profit = 0\n",
    "        self.money_received = 0\n",
    "\n",
    "    def report(self):\n",
    "        \"\"\"Prints the current profit\"\"\"\n",
    "        print(f\"Money: {self.CURRENCY}{self.profit}\")\n",
    "\n",
    "    def process_coins(self):\n",
    "        \"\"\"Returns the total calculated from coins inserted.\"\"\"\n",
    "        print(\"Please insert coins.\")\n",
    "        for coin in self.COIN_VALUES:\n",
    "            self.money_received += int(input(f\"How many {coin}?: \")) * self.COIN_VALUES[coin]\n",
    "        return self.money_received\n",
    "\n",
    "    def make_payment(self, cost):\n",
    "        \"\"\"Returns True when payment is accepted, or False if insufficient.\"\"\"\n",
    "        self.process_coins()\n",
    "        if self.money_received >= cost:\n",
    "            change = round(self.money_received - cost, 2)\n",
    "            print(f\"Here is {self.CURRENCY}{change} in change.\")\n",
    "            self.profit += cost\n",
    "            self.money_received = 0\n",
    "            return True\n",
    "        else:\n",
    "            print(\"Sorry that's not enough money. Money refunded.\")\n",
    "            self.money_received = 0\n",
    "            return False\n"
   ]
  },
  {
   "cell_type": "code",
   "execution_count": 8,
   "id": "8385bc72-1fae-4642-bf59-5dd35813e503",
   "metadata": {},
   "outputs": [
    {
     "name": "stdin",
     "output_type": "stream",
     "text": [
      "What would you like? (latte/espresso/cappuccino/):  latte\n"
     ]
    },
    {
     "name": "stdout",
     "output_type": "stream",
     "text": [
      "Please insert coins.\n"
     ]
    },
    {
     "name": "stdin",
     "output_type": "stream",
     "text": [
      "How many quarters?:  10\n",
      "How many dimes?:  10\n",
      "How many nickles?:  10\n",
      "How many pennies?:  10\n"
     ]
    },
    {
     "name": "stdout",
     "output_type": "stream",
     "text": [
      "Here is $1.6 in change.\n",
      "Here is your latte ☕️. Enjoy!\n"
     ]
    },
    {
     "name": "stdin",
     "output_type": "stream",
     "text": [
      "What would you like? (latte/espresso/cappuccino/):  cappuccino\n"
     ]
    },
    {
     "name": "stdout",
     "output_type": "stream",
     "text": [
      "Sorry there is not enough water.\n"
     ]
    },
    {
     "name": "stdin",
     "output_type": "stream",
     "text": [
      "What would you like? (latte/espresso/cappuccino/):  off\n"
     ]
    }
   ],
   "source": [
    "money_machine = MoneyMachine()\n",
    "coffee_maker = CoffeeMaker()\n",
    "menu = Menu()\n",
    "\n",
    "is_on = True\n",
    "\n",
    "while is_on:\n",
    "    options = menu.get_items()\n",
    "    choice = input(f\"What would you like? ({options}): \")\n",
    "    if choice == \"off\":\n",
    "        is_on = False\n",
    "    elif choice == \"report\":\n",
    "        coffee_maker.report()\n",
    "        money_machine.report()\n",
    "    else:\n",
    "        drink = menu.find_drink(choice)\n",
    "        \n",
    "        if coffee_maker.is_resource_sufficient(drink) and money_machine.make_payment(drink.cost):\n",
    "          coffee_maker.make_coffee(drink)"
   ]
  },
  {
   "cell_type": "code",
   "execution_count": null,
   "id": "1a086e7e-e20a-4ecf-8ea6-a02a7ae84c0c",
   "metadata": {},
   "outputs": [],
   "source": []
  }
 ],
 "metadata": {
  "kernelspec": {
   "display_name": "Python 3 (ipykernel)",
   "language": "python",
   "name": "python3"
  },
  "language_info": {
   "codemirror_mode": {
    "name": "ipython",
    "version": 3
   },
   "file_extension": ".py",
   "mimetype": "text/x-python",
   "name": "python",
   "nbconvert_exporter": "python",
   "pygments_lexer": "ipython3",
   "version": "3.12.4"
  }
 },
 "nbformat": 4,
 "nbformat_minor": 5
}
