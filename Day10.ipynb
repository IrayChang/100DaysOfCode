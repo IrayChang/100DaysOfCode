{
 "cells": [
  {
   "cell_type": "markdown",
   "id": "b78e9293-e607-491c-9cbb-bc17b39dd7d6",
   "metadata": {},
   "source": [
    "# Day 10 - The Calculator"
   ]
  },
  {
   "cell_type": "code",
   "execution_count": 25,
   "id": "4b6730c9-855a-43a3-bb70-6e381c89c658",
   "metadata": {},
   "outputs": [
    {
     "name": "stdin",
     "output_type": "stream",
     "text": [
      "What's your first number:  adfa\n"
     ]
    },
    {
     "name": "stdout",
     "output_type": "stream",
     "text": [
      "Invalid input!\n"
     ]
    },
    {
     "name": "stdin",
     "output_type": "stream",
     "text": [
      "What's your first number:  1\n"
     ]
    },
    {
     "name": "stdout",
     "output_type": "stream",
     "text": [
      "+\n",
      "-\n",
      "*\n",
      "/\n"
     ]
    },
    {
     "name": "stdin",
     "output_type": "stream",
     "text": [
      "Pick an operation:  afsd\n"
     ]
    },
    {
     "name": "stdout",
     "output_type": "stream",
     "text": [
      "Invalid input!\n",
      "+\n",
      "-\n",
      "*\n",
      "/\n"
     ]
    },
    {
     "name": "stdin",
     "output_type": "stream",
     "text": [
      "Pick an operation:  -\n",
      "What's the next number:  9\n"
     ]
    },
    {
     "name": "stdout",
     "output_type": "stream",
     "text": [
      "1.0 - 9.0 = -8.0\n"
     ]
    },
    {
     "name": "stdin",
     "output_type": "stream",
     "text": [
      "Type 'y' to continue calculating with -8.0, 'n' to start a new calculation, or 'e' to exit:  sdf\n"
     ]
    },
    {
     "name": "stdout",
     "output_type": "stream",
     "text": [
      "Invalid input!\n"
     ]
    },
    {
     "name": "stdin",
     "output_type": "stream",
     "text": [
      "Type 'y' to continue calculating with -8.0, 'n' to start a new calculation, or 'e' to exit:  y\n"
     ]
    },
    {
     "name": "stdout",
     "output_type": "stream",
     "text": [
      "+\n",
      "-\n",
      "*\n",
      "/\n"
     ]
    },
    {
     "name": "stdin",
     "output_type": "stream",
     "text": [
      "Pick an operation:  /\n",
      "What's the next number:  0\n"
     ]
    },
    {
     "name": "stdout",
     "output_type": "stream",
     "text": [
      "Division cannot be zero\n"
     ]
    },
    {
     "name": "stdin",
     "output_type": "stream",
     "text": [
      "Type 'y' to continue calculating with None, 'n' to start a new calculation, or 'e' to exit:  e\n"
     ]
    }
   ],
   "source": [
    "def add(a, b):\n",
    "    return a + b\n",
    "def subtract(a, b):\n",
    "    return a - b\n",
    "def multiply(a, b):\n",
    "    return a * b\n",
    "def divide(a, b):\n",
    "    if b == 0:\n",
    "        print(\"Division cannot be zero\")\n",
    "        return \n",
    "    else:\n",
    "        return a / b\n",
    "\n",
    "operations = {\n",
    "    \"+\" : add,\n",
    "    \"-\" : subtract,\n",
    "    \"*\" : multiply,\n",
    "    \"/\" : divide,\n",
    "}\n",
    "\n",
    "def valid_num(user_input):\n",
    "    while True:\n",
    "        try:\n",
    "            return float(input(user_input))\n",
    "        except ValueError:\n",
    "            print(\"Invalid input!\")\n",
    "\n",
    "def valid_operator():\n",
    "    while True:\n",
    "        print(\"+\\n-\\n*\\n/\")\n",
    "        operator = input(\"Pick an operation: \")\n",
    "        if operator in operations:\n",
    "            return operator\n",
    "        else:\n",
    "            print(\"Invalid input!\")\n",
    "\n",
    "def valid_restart():\n",
    "    while True:\n",
    "        choice = input(f\"Type 'y' to continue calculating with {result}, 'n' to start a new calculation, or 'e' to exit: \").lower()\n",
    "        if choice in ['y', 'n', 'e']:\n",
    "            return choice\n",
    "        else:\n",
    "            print(\"Invalid input!\")\n",
    "            \n",
    "\n",
    "while True:\n",
    "    num1 = valid_num(\"What's your first number: \")\n",
    "    while True:\n",
    "        operation_symbol = valid_operator()\n",
    "        num2 = valid_num(\"What's the next number: \")\n",
    "        \n",
    "        result = operations[operation_symbol](num1, num2)\n",
    "        if result is not None:\n",
    "            print(f\"{num1} {operation_symbol} {num2} = {result}\")\n",
    "            num1 = result\n",
    "            \n",
    "        restart = valid_restart()\n",
    "        \n",
    "        if restart == \"y\":\n",
    "            continue\n",
    "        else:\n",
    "            break\n",
    "    if restart == \"n\":\n",
    "        continue\n",
    "    else:\n",
    "        print(\"Goodbye~\")\n",
    "        break\n",
    "    \n"
   ]
  },
  {
   "cell_type": "code",
   "execution_count": 33,
   "id": "bf7c3c8f-7b76-466a-9c64-0415850f3745",
   "metadata": {},
   "outputs": [
    {
     "name": "stdin",
     "output_type": "stream",
     "text": [
      "What's your first number:  1\n"
     ]
    },
    {
     "name": "stdout",
     "output_type": "stream",
     "text": [
      "+\n",
      "-\n",
      "*\n",
      "/\n"
     ]
    },
    {
     "name": "stdin",
     "output_type": "stream",
     "text": [
      "Pick an operation:  asdf\n"
     ]
    },
    {
     "name": "stdout",
     "output_type": "stream",
     "text": [
      "Invalid input!\n",
      "+\n",
      "-\n",
      "*\n",
      "/\n"
     ]
    },
    {
     "name": "stdin",
     "output_type": "stream",
     "text": [
      "Pick an operation:  /\n",
      "What's the next number:  0\n"
     ]
    },
    {
     "name": "stdout",
     "output_type": "stream",
     "text": [
      "Division cannot be zero\n"
     ]
    },
    {
     "name": "stdin",
     "output_type": "stream",
     "text": [
      "Type 'y' to continue calculating with None, 'n' to start a new calculation, or 'e' to exit:  n\n"
     ]
    },
    {
     "name": "stdout",
     "output_type": "stream",
     "text": [
      "\n",
      "\n",
      "\n",
      "\n",
      "\n",
      "\n",
      "\n",
      "\n",
      "\n",
      "\n",
      "\n"
     ]
    },
    {
     "name": "stdin",
     "output_type": "stream",
     "text": [
      "What's your first number:  2\n"
     ]
    },
    {
     "name": "stdout",
     "output_type": "stream",
     "text": [
      "+\n",
      "-\n",
      "*\n",
      "/\n"
     ]
    },
    {
     "name": "stdin",
     "output_type": "stream",
     "text": [
      "Pick an operation:  +\n",
      "What's the next number:  jas;d\n"
     ]
    },
    {
     "name": "stdout",
     "output_type": "stream",
     "text": [
      "Invalid input!\n"
     ]
    },
    {
     "name": "stdin",
     "output_type": "stream",
     "text": [
      "What's the next number:  3\n"
     ]
    },
    {
     "name": "stdout",
     "output_type": "stream",
     "text": [
      "2.0 + 3.0 = 5.0\n"
     ]
    },
    {
     "name": "stdin",
     "output_type": "stream",
     "text": [
      "Type 'y' to continue calculating with None, 'n' to start a new calculation, or 'e' to exit:  e\n"
     ]
    }
   ],
   "source": [
    "# Alternative: use recursion!\n",
    "\n",
    "def calculator():\n",
    "    accumulate = True\n",
    "    num1 = valid_num(\"What's your first number: \")\n",
    "    while accumulate:\n",
    "        operation_symbol = valid_operator()\n",
    "        num2 = valid_num(\"What's the next number: \")\n",
    "        \n",
    "        result = operations[operation_symbol](num1, num2)\n",
    "        if result is not None:\n",
    "            print(f\"{num1} {operation_symbol} {num2} = {result}\")\n",
    "            num1 = result\n",
    "            \n",
    "        restart = valid_restart()\n",
    "        \n",
    "        if restart == \"y\":\n",
    "            continue\n",
    "        elif restart == \"e\":\n",
    "            break\n",
    "        else:\n",
    "            accumulate = False\n",
    "            print(\"\\n\"*10)\n",
    "            calculator()\n",
    "\n",
    "calculator()"
   ]
  },
  {
   "cell_type": "code",
   "execution_count": null,
   "id": "5520f980-408d-4a65-a95c-fddba5f1957c",
   "metadata": {},
   "outputs": [],
   "source": []
  }
 ],
 "metadata": {
  "kernelspec": {
   "display_name": "Python 3 (ipykernel)",
   "language": "python",
   "name": "python3"
  },
  "language_info": {
   "codemirror_mode": {
    "name": "ipython",
    "version": 3
   },
   "file_extension": ".py",
   "mimetype": "text/x-python",
   "name": "python",
   "nbconvert_exporter": "python",
   "pygments_lexer": "ipython3",
   "version": "3.12.4"
  }
 },
 "nbformat": 4,
 "nbformat_minor": 5
}
