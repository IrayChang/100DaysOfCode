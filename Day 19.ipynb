{
 "cells": [
  {
   "cell_type": "code",
   "execution_count": null,
   "id": "5823ecd5-f238-40d5-a4db-d6152b12fe92",
   "metadata": {},
   "outputs": [],
   "source": [
    "# Etch - A - Sketch\n",
    "from turtle import Turtle, Screen\n",
    "\n",
    "t = Turtle()\n",
    "s = Screen()\n",
    "\n",
    "def forward():\n",
    "    t.forward(10)\n",
    "    \n",
    "def backward():\n",
    "    t.backward(10)\n",
    "\n",
    "def left():\n",
    "    t.left(10)\n",
    "    \n",
    "def right():\n",
    "    t.right(-10)\n",
    "\n",
    "def clear():\n",
    "    t.reset()\n",
    "\n",
    "\n",
    "s.listen()\n",
    "s.onkey(key = \"w\", fun = forward)\n",
    "s.onkey(key = \"s\", fun = backward)\n",
    "s.onkey(key = \"a\", fun = left)\n",
    "s.onkey(key = \"d\", fun = right)\n",
    "s.onkey(key = \"c\", fun = clear)\n",
    "\n",
    "s.exitonclick()\n"
   ]
  },
  {
   "cell_type": "code",
   "execution_count": null,
   "id": "fe5ae21e-933c-40a4-ac23-0d617f0372e5",
   "metadata": {},
   "outputs": [
    {
     "name": "stderr",
     "output_type": "stream",
     "text": [
      "2025-03-07 15:58:27.502 python[67576:1617377] TSM AdjustCapsLockLEDForKeyTransitionHandling - _ISSetPhysicalKeyboardCapsLockLED Inhibit\n"
     ]
    },
    {
     "name": "stdout",
     "output_type": "stream",
     "text": [
      "You lose\n",
      "The winner is green.\n"
     ]
    }
   ],
   "source": [
    "# Turtle Race\n",
    "from turtle import Turtle, Screen\n",
    "import random\n",
    "\n",
    "s = Screen()\n",
    "s.setup(width = 500, height = 400)\n",
    "colors = [\"red\", \"orange\", \"yellow\", \"green\", \"blue\", \"purple\"]\n",
    "all_turtles = []\n",
    "\n",
    "user_bet = s.textinput(title = \"Make your bet\", prompt = \"Which turtle will win the race: \")\n",
    "\n",
    "def create_turtles():\n",
    "    start_y = -120\n",
    "    for color_name in range(0, 6):\n",
    "        t = Turtle(shape = \"turtle\")\n",
    "        t.color(colors[color_name])\n",
    "        t.penup()\n",
    "        t.goto(x = -230, y = start_y)\n",
    "        start_y += 50\n",
    "        \n",
    "        all_turtles.append(t)\n",
    "\n",
    "def movement(t):\n",
    "    race_on = True\n",
    "    while race_on:\n",
    "        for each in all_turtles:\n",
    "            if each.xcor() > 210:\n",
    "                race_on = False\n",
    "                winner = each.pencolor()\n",
    "                if user_bet == each:\n",
    "                    print(\"You've win!\")\n",
    "                else:\n",
    "                    print(\"You've lose!\")\n",
    "                print(f\"The winner is {winner}.\")\n",
    "                \n",
    "            each.forward(random.randint(1, 10)) \n",
    "\n",
    "create_turtles()\n",
    "movement(all_turtles)\n",
    "\n",
    "s.exitonclick()"
   ]
  },
  {
   "cell_type": "code",
   "execution_count": null,
   "id": "92b293c5-524d-4794-8655-e3962c067bea",
   "metadata": {},
   "outputs": [],
   "source": []
  }
 ],
 "metadata": {
  "kernelspec": {
   "display_name": "Python 3 (ipykernel)",
   "language": "python",
   "name": "python3"
  },
  "language_info": {
   "codemirror_mode": {
    "name": "ipython",
    "version": 3
   },
   "file_extension": ".py",
   "mimetype": "text/x-python",
   "name": "python",
   "nbconvert_exporter": "python",
   "pygments_lexer": "ipython3",
   "version": "3.12.4"
  }
 },
 "nbformat": 4,
 "nbformat_minor": 5
}
