{
 "cells": [
  {
   "cell_type": "markdown",
   "id": "3adfeee9-0715-4ab9-b0cf-d537b35eb54f",
   "metadata": {},
   "source": [
    "# Day 15 - Coffee Machine Project"
   ]
  },
  {
   "cell_type": "code",
   "execution_count": 77,
   "id": "a56a591b-0e4e-4505-a2ab-b06e6b9dffc6",
   "metadata": {},
   "outputs": [],
   "source": [
    "MENU = {\n",
    "    \"espresso\": {\n",
    "        \"ingredients\": {\n",
    "            \"water\": 50,\n",
    "            \"milk\": 0,\n",
    "            \"coffee\": 18,\n",
    "        },\n",
    "        \"cost\": 1.5,\n",
    "    },\n",
    "    \"latte\": {\n",
    "        \"ingredients\": {\n",
    "            \"water\": 200,\n",
    "            \"milk\": 150,\n",
    "            \"coffee\": 24,\n",
    "        },\n",
    "        \"cost\": 2.5,\n",
    "    },\n",
    "    \"cappuccino\": {\n",
    "        \"ingredients\": {\n",
    "            \"water\": 250,\n",
    "            \"milk\": 100,\n",
    "            \"coffee\": 24,\n",
    "        },\n",
    "        \"cost\": 3.0,\n",
    "    }\n",
    "}\n",
    "\n",
    "profit = 0\n",
    "resources = {\n",
    "    \"water\": 300,\n",
    "    \"milk\": 200,\n",
    "    \"coffee\": 100,\n",
    "    \"money\": 0,\n",
    "}\n",
    "\n",
    "def resources_report(a):\n",
    "    Water = a[\"water\"]\n",
    "    Milk = a[\"milk\"]\n",
    "    Coffee = a[\"coffee\"]\n",
    "    Money = a[\"money\"]\n",
    "    print(f\"Water: {Water}ml\\nMilk: {Milk}ml\\nCoffee: {Coffee}g\\nMoney: ${Money:.2f}\")\n",
    "\n",
    "def valid_choice():\n",
    "    while True:\n",
    "        choice = input(\"What would you like? (espresso/latte/cappuccino)\").lower()\n",
    "        if choice in [\"espresso\", \"latte\", \"cappuccino\", \"report\", \"off\"]:\n",
    "            return choice\n",
    "        else:\n",
    "            print(\"Invalid input\")\n",
    "\n",
    "def input_coin():\n",
    "    while True:\n",
    "        try: \n",
    "            quarters = int(input(\"How many quarters?: \"))\n",
    "            dimes = int(input(\"How many dimes?: \"))\n",
    "            nickles = int(input(\"How many nickles?: \"))\n",
    "            pennies = int(input(\"How many pennies?: \"))\n",
    "            return quarters, dimes, nickles, pennies\n",
    "        except ValueError:\n",
    "            print(Invalid_input)\n",
    "\n",
    "def resources_used(coffee_choice):\n",
    "    resources[\"money\"] += coffee_choice[\"cost\"]\n",
    "    resources[\"water\"] -= coffee_choice[\"ingredients\"][\"water\"]\n",
    "    resources[\"milk\"] -= coffee_choice[\"ingredients\"][\"milk\"]\n",
    "    resources[\"coffee\"] -= coffee_choice[\"ingredients\"][\"coffee\"]\n",
    "    \n",
    "\n",
    "def check(coffee_choice, available_resources, user_choice):\n",
    "    for ingredient in coffee_choice[\"ingredients\"]:\n",
    "        if coffee_choice[\"ingredients\"][ingredient] > available_resources[ingredient]:\n",
    "            print(f\"Sorry there is not enough {ingredient}.\")\n",
    "            return False\n",
    "\n",
    "    print(\"Please insert coins.\")\n",
    "    QUARTERS, DIMES, NICKLES, PENNIES = input_coin()\n",
    "    total_input = 0.25 * QUARTERS + 0.1 * DIMES + 0.05 * NICKLES + 0.01 * PENNIES\n",
    "    \n",
    "    if total_input >= coffee_choice[\"cost\"]:\n",
    "        change = round(total_input - coffee_choice[\"cost\"], 2)\n",
    "        print(f\"Here is ${change:.2f} dollars in change.\")\n",
    "        print(f\"Here is your {user_choice}. Enjoy!\")\n",
    "        resources_used(coffee_choice)\n",
    "        return True\n",
    "    else:\n",
    "        print(\"Sorry that's not enough money. Money refunded.\")\n",
    "        return False        \n"
   ]
  },
  {
   "cell_type": "code",
   "execution_count": 79,
   "id": "5c1bc85c-831b-41dc-b36a-c4986d9a0b89",
   "metadata": {},
   "outputs": [
    {
     "name": "stdin",
     "output_type": "stream",
     "text": [
      "What would you like? (espresso/latte/cappuccino) report\n"
     ]
    },
    {
     "name": "stdout",
     "output_type": "stream",
     "text": [
      "Water: 300ml\n",
      "Milk: 200ml\n",
      "Coffee: 100g\n",
      "Money: $0.00\n"
     ]
    },
    {
     "name": "stdin",
     "output_type": "stream",
     "text": [
      "What would you like? (espresso/latte/cappuccino) sajdf;\n"
     ]
    },
    {
     "name": "stdout",
     "output_type": "stream",
     "text": [
      "Invalid input\n"
     ]
    },
    {
     "name": "stdin",
     "output_type": "stream",
     "text": [
      "What would you like? (espresso/latte/cappuccino) latte\n"
     ]
    },
    {
     "name": "stdout",
     "output_type": "stream",
     "text": [
      "Please insert coins.\n"
     ]
    },
    {
     "name": "stdin",
     "output_type": "stream",
     "text": [
      "How many quarters?:  20\n",
      "How many dimes?:  1\n",
      "How many nickles?:  1\n",
      "How many pennies?:  1\n"
     ]
    },
    {
     "name": "stdout",
     "output_type": "stream",
     "text": [
      "Here is $2.66 dollars in change.\n",
      "Here is your latte. Enjoy!\n"
     ]
    },
    {
     "name": "stdin",
     "output_type": "stream",
     "text": [
      "What would you like? (espresso/latte/cappuccino) report\n"
     ]
    },
    {
     "name": "stdout",
     "output_type": "stream",
     "text": [
      "Water: 100ml\n",
      "Milk: 50ml\n",
      "Coffee: 76g\n",
      "Money: $2.50\n"
     ]
    },
    {
     "name": "stdin",
     "output_type": "stream",
     "text": [
      "What would you like? (espresso/latte/cappuccino) espresso\n"
     ]
    },
    {
     "name": "stdout",
     "output_type": "stream",
     "text": [
      "Please insert coins.\n"
     ]
    },
    {
     "name": "stdin",
     "output_type": "stream",
     "text": [
      "How many quarters?:  1\n",
      "How many dimes?:  1\n",
      "How many nickles?:  1\n",
      "How many pennies?:  1\n"
     ]
    },
    {
     "name": "stdout",
     "output_type": "stream",
     "text": [
      "Sorry that's not enough money. Money refunded.\n"
     ]
    },
    {
     "name": "stdin",
     "output_type": "stream",
     "text": [
      "What would you like? (espresso/latte/cappuccino) cappuccino\n"
     ]
    },
    {
     "name": "stdout",
     "output_type": "stream",
     "text": [
      "Sorry there is not enough water.\n"
     ]
    },
    {
     "name": "stdin",
     "output_type": "stream",
     "text": [
      "What would you like? (espresso/latte/cappuccino) off\n"
     ]
    }
   ],
   "source": [
    "turn_on = True\n",
    "\n",
    "while turn_on:\n",
    "    choice = valid_choice()\n",
    "\n",
    "    if choice == \"report\":\n",
    "        resources_report(resources)\n",
    "    elif choice in MENU:\n",
    "        check(MENU[choice], resources, choice)\n",
    "    elif choice == \"off\":\n",
    "        turn_on = False       \n"
   ]
  },
  {
   "cell_type": "code",
   "execution_count": null,
   "id": "611be038-7d19-44bd-a78f-95b69e5fd630",
   "metadata": {},
   "outputs": [],
   "source": []
  }
 ],
 "metadata": {
  "kernelspec": {
   "display_name": "Python 3 (ipykernel)",
   "language": "python",
   "name": "python3"
  },
  "language_info": {
   "codemirror_mode": {
    "name": "ipython",
    "version": 3
   },
   "file_extension": ".py",
   "mimetype": "text/x-python",
   "name": "python",
   "nbconvert_exporter": "python",
   "pygments_lexer": "ipython3",
   "version": "3.12.4"
  }
 },
 "nbformat": 4,
 "nbformat_minor": 5
}
