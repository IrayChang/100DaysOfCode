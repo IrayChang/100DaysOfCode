{
 "cells": [
  {
   "cell_type": "markdown",
   "id": "a645b967-483a-46c3-92ca-8cfaa9539adc",
   "metadata": {},
   "source": [
    "# Day 1 - Band Name Generator"
   ]
  },
  {
   "cell_type": "code",
   "execution_count": 3,
   "id": "9c2b5c93-de27-4b95-9cf0-89748ba71ddd",
   "metadata": {},
   "outputs": [
    {
     "name": "stdout",
     "output_type": "stream",
     "text": [
      "Welcome to the Band Name Generator\n"
     ]
    },
    {
     "name": "stdin",
     "output_type": "stream",
     "text": [
      "What's the name of the city you grew up in? taipei\n",
      "What's your pets name? iray\n"
     ]
    },
    {
     "name": "stdout",
     "output_type": "stream",
     "text": [
      "Your Band name could be taipei iray\n"
     ]
    }
   ],
   "source": [
    "print(\"Welcome to the Band Name Generator\")\n",
    "city_name = input(\"What's the name of the city you grew up in?\")\n",
    "pets_name = input(\"What's your pets name?\")\n",
    "\n",
    "print(\"Your Band name could be \" + city_name + \" \" + pets_name)"
   ]
  }
 ],
 "metadata": {
  "kernelspec": {
   "display_name": "Python 3 (ipykernel)",
   "language": "python",
   "name": "python3"
  },
  "language_info": {
   "codemirror_mode": {
    "name": "ipython",
    "version": 3
   },
   "file_extension": ".py",
   "mimetype": "text/x-python",
   "name": "python",
   "nbconvert_exporter": "python",
   "pygments_lexer": "ipython3",
   "version": "3.12.4"
  }
 },
 "nbformat": 4,
 "nbformat_minor": 5
}
